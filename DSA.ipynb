{
 "cells": [
  {
   "cell_type": "markdown",
   "metadata": {},
   "source": [
    "## 1. Basics and Looping"
   ]
  },
  {
   "cell_type": "markdown",
   "metadata": {},
   "source": [
    "#### 1.1 Prime number or not"
   ]
  },
  {
   "cell_type": "code",
   "execution_count": 8,
   "metadata": {},
   "outputs": [
    {
     "name": "stdout",
     "output_type": "stream",
     "text": [
      "11 is a prime number\n"
     ]
    }
   ],
   "source": [
    "num = int(input(\"enter the number\"))\n",
    "flag = 0\n",
    "if num<=1:\n",
    "    print(\"Not a prime number\")\n",
    "else:\n",
    "    for i in range(2,int(num/2)):\n",
    "        if (num%i == 0):\n",
    "            flag = 1\n",
    "            break\n",
    "    if flag==1:\n",
    "        print(num,\"is not a prime number\")\n",
    "    else:\n",
    "        print(num,\"is a prime number\")"
   ]
  },
  {
   "cell_type": "code",
   "execution_count": 9,
   "metadata": {},
   "outputs": [
    {
     "name": "stdout",
     "output_type": "stream",
     "text": [
      "5 is a prime number\n"
     ]
    }
   ],
   "source": [
    "num = int(input(\"Enter the number to be checked: \"))\n",
    "flag = 0 #presume num is a prime number\n",
    "if num > 1 :\n",
    "    for i in range(2, int(num / 2)):\n",
    "        if (num % i == 0):\n",
    "            flag = 1 \n",
    "            break \n",
    "    if flag == 1:\n",
    "        print(num , \"is not a prime number\")\n",
    "    else:\n",
    "        print(num , \"is a prime number\")\n",
    "else:\n",
    "    print(\"Not a prime number\")"
   ]
  },
  {
   "cell_type": "code",
   "execution_count": 3,
   "metadata": {},
   "outputs": [
    {
     "name": "stdout",
     "output_type": "stream",
     "text": [
      "Not Prime\n"
     ]
    }
   ],
   "source": [
    "n=int(input())\n",
    "\n",
    "flag=True\n",
    "if n==1:\n",
    "    print(\"Not Prime\")\n",
    "else:\n",
    "    for i in range(2,n):\n",
    "        \n",
    "        if n%i==0:\n",
    "            print(\"Not Prime\")\n",
    "            flag=False\n",
    "            break\n",
    "\n",
    "    if flag:\n",
    "        print(\"Prime\")\n"
   ]
  },
  {
   "cell_type": "markdown",
   "metadata": {},
   "source": [
    "#### 1.2 While loop"
   ]
  },
  {
   "cell_type": "code",
   "execution_count": 23,
   "metadata": {},
   "outputs": [
    {
     "name": "stdout",
     "output_type": "stream",
     "text": [
      "Hello Aliens Aliens Aliens Aliens \n",
      "Hello Aliens Aliens Aliens Aliens \n",
      "Hello Aliens Aliens Aliens Aliens \n",
      "Hello Aliens Aliens Aliens Aliens \n",
      "Hello Aliens Aliens Aliens Aliens \n"
     ]
    }
   ],
   "source": [
    "i = 1\n",
    "while i<=5:\n",
    "    j = 1\n",
    "    print(\"Hello \",end=\"\")\n",
    "    while j<=4:\n",
    "        print(\"Aliens \",end=\"\")\n",
    "        j+=1\n",
    "    print()\n",
    "    i+=1"
   ]
  },
  {
   "cell_type": "code",
   "execution_count": 21,
   "metadata": {},
   "outputs": [
    {
     "name": "stdout",
     "output_type": "stream",
     "text": [
      "2\n",
      "4\n",
      "6\n",
      "8\n",
      "10\n"
     ]
    }
   ],
   "source": [
    "num = 2\n",
    "while num<=10:\n",
    "    print(num)\n",
    "    num+=2\n"
   ]
  },
  {
   "cell_type": "code",
   "execution_count": 28,
   "metadata": {},
   "outputs": [
    {
     "name": "stdout",
     "output_type": "stream",
     "text": [
      "1\n",
      "2\n",
      "3\n",
      "4\n",
      "6\n",
      "7\n",
      "8\n",
      "9\n"
     ]
    }
   ],
   "source": [
    "def print_output(n):\n",
    "    \"\"\"Print all numbers from 1 to n except the ones divisible by 5\n",
    "    use the help of continue statement to leverage this  \"\"\"\n",
    "\n",
    "    i = 1\n",
    "    while i<=n:\n",
    "        if i==5:\n",
    "            i+=1\n",
    "            continue\n",
    "        print(i)\n",
    "        i+=1\n",
    "\n",
    "   \n",
    "    \"\"\"Dont change anything below. If changed click on reset.\"\"\"\n",
    "def main():\n",
    "    n=int(input())\n",
    "    print_output(n)\n",
    "    \n",
    "main()"
   ]
  },
  {
   "cell_type": "markdown",
   "metadata": {},
   "source": [
    "#### 1.3 Reverse of a number"
   ]
  },
  {
   "cell_type": "code",
   "execution_count": 17,
   "metadata": {},
   "outputs": [
    {
     "name": "stdout",
     "output_type": "stream",
     "text": [
      "43534351"
     ]
    }
   ],
   "source": [
    "n = 15343534\n",
    "while n:\n",
    "        print(n%10,end=\"\")\n",
    "        n=n//10"
   ]
  },
  {
   "cell_type": "code",
   "execution_count": 1,
   "metadata": {},
   "outputs": [
    {
     "name": "stdout",
     "output_type": "stream",
     "text": [
      "321\n"
     ]
    }
   ],
   "source": [
    "def reverse(n):\n",
    "    \"\"\" Function to return the reverse of a number n \"\"\"\n",
    "    num=0\n",
    "    while n:\n",
    "        r=n%10\n",
    "        n=n//10\n",
    "        num=num*10+r\n",
    "    return(num)\n",
    "\n",
    "def main():\n",
    "    n=int(input())\n",
    "    output = reverse(n)\n",
    "    print(output)\n",
    "    \n",
    "main()"
   ]
  },
  {
   "cell_type": "markdown",
   "metadata": {},
   "source": [
    "#### 1.4 Armstrong number"
   ]
  },
  {
   "cell_type": "code",
   "execution_count": 3,
   "metadata": {},
   "outputs": [
    {
     "name": "stdout",
     "output_type": "stream",
     "text": [
      "153\n",
      "false\n"
     ]
    }
   ],
   "source": [
    "n=153\n",
    "sum=0\n",
    "while n:\n",
    "    r=n%10\n",
    "    n=n//10\n",
    "    sum+=r**3\n",
    "print(sum)\n",
    "print(\"true\") if sum==n else print(\"false\")"
   ]
  },
  {
   "cell_type": "markdown",
   "metadata": {},
   "source": [
    "#### 1.5 Patterns"
   ]
  },
  {
   "cell_type": "code",
   "execution_count": 2,
   "metadata": {},
   "outputs": [
    {
     "name": "stdout",
     "output_type": "stream",
     "text": [
      "*\n",
      "**\n",
      "***\n",
      "****\n",
      "*****\n"
     ]
    }
   ],
   "source": [
    "for i in range(1,6):\n",
    "    for j in range(1,i+1):\n",
    "        print(\"*\",end=\"\")\n",
    "    print()"
   ]
  },
  {
   "cell_type": "code",
   "execution_count": 7,
   "metadata": {},
   "outputs": [
    {
     "name": "stdout",
     "output_type": "stream",
     "text": [
      "****\n",
      "***\n",
      "**\n",
      "*\n"
     ]
    }
   ],
   "source": [
    "for i in range(1,5):\n",
    "    for j in range(1,6-i):\n",
    "        print(\"*\",end=\"\")\n",
    "    print()"
   ]
  },
  {
   "cell_type": "code",
   "execution_count": 17,
   "metadata": {},
   "outputs": [
    {
     "name": "stdout",
     "output_type": "stream",
     "text": [
      "********\n",
      "***..***\n",
      "**....**\n",
      "*......*\n"
     ]
    }
   ],
   "source": [
    "for i in range(1,5):\n",
    "    for j in range(1,6-i):\n",
    "        print(\"*\",end=\"\")\n",
    "    \n",
    "    for j in range(1,2*i-1):\n",
    "        print(\".\",end=\"\")\n",
    "\n",
    "    for j in range(1,6-i):\n",
    "        print(\"*\",end=\"\")\n",
    "\n",
    "    print()\n",
    "        "
   ]
  },
  {
   "cell_type": "code",
   "execution_count": 38,
   "metadata": {},
   "outputs": [
    {
     "name": "stdout",
     "output_type": "stream",
     "text": [
      "*****\n",
      "****\n",
      "***\n",
      "**\n",
      "*\n"
     ]
    }
   ],
   "source": [
    "i=1\n",
    "while i<=5:\n",
    "    j=1\n",
    "    while j<=6-i:\n",
    "        print(\"*\",end=\"\")\n",
    "        j+=1\n",
    "    i+=1\n",
    "    print()    "
   ]
  },
  {
   "cell_type": "code",
   "execution_count": 40,
   "metadata": {},
   "outputs": [
    {
     "name": "stdout",
     "output_type": "stream",
     "text": [
      "*****\n",
      "****\n",
      "***\n",
      "**\n",
      "*\n",
      "*\n",
      "**\n",
      "***\n",
      "****\n",
      "*****\n"
     ]
    }
   ],
   "source": [
    "for i in range(1,6):\n",
    "    for j in range(1,7-i):\n",
    "        print(\"*\",end=\"\")\n",
    "    print()   \n",
    "for i in range(1,6):\n",
    "    for j in range(1,i+1):\n",
    "        print(\"*\",end=\"\")\n",
    "    print()"
   ]
  },
  {
   "cell_type": "code",
   "execution_count": 44,
   "metadata": {},
   "outputs": [
    {
     "name": "stdout",
     "output_type": "stream",
     "text": [
      "*    *\n",
      "**   **\n",
      "***  ***\n",
      "**** ****\n",
      "**********\n"
     ]
    }
   ],
   "source": [
    "for i in range(1,6):\n",
    "\n",
    "    for j in range(1,i+1):\n",
    "        print(\"*\",end=\"\")\n",
    "\n",
    "    for j in range(1,6-i):\n",
    "        print(\" \",end=\"\")\n",
    "\n",
    "    for j in range(1,i+1):\n",
    "        print(\"*\",end=\"\")\n",
    "    \n",
    "    print()"
   ]
  },
  {
   "cell_type": "code",
   "execution_count": 75,
   "metadata": {},
   "outputs": [
    {
     "name": "stdout",
     "output_type": "stream",
     "text": [
      "*****\n",
      "****\n",
      "***\n",
      "**\n",
      "*\n",
      "*\n",
      "**\n",
      "***\n",
      "****\n",
      "*****\n"
     ]
    }
   ],
   "source": [
    "i=1\n",
    "while i<=5:\n",
    "    j=1\n",
    "    while j<=6-i:\n",
    "        print(\"*\",end=\"\")\n",
    "        j+=1\n",
    "    print()\n",
    "    i+=1   \n",
    "i=1\n",
    "while i<=5:\n",
    "    j=1\n",
    "    while j<=i:\n",
    "        print(\"*\",end=\"\")\n",
    "        j+=1\n",
    "    print()\n",
    "    i+=1 \n"
   ]
  },
  {
   "cell_type": "code",
   "execution_count": 74,
   "metadata": {},
   "outputs": [
    {
     "name": "stdout",
     "output_type": "stream",
     "text": [
      "*\n",
      "**\n",
      "***\n",
      "****\n",
      "*****\n"
     ]
    }
   ],
   "source": [
    "  \n",
    "i=1\n",
    "while i<=5:\n",
    "    j=1\n",
    "    while j<=i:\n",
    "        print(\"*\",end=\"\")\n",
    "        j+=1\n",
    "    print()\n",
    "    i+=1 "
   ]
  },
  {
   "cell_type": "code",
   "execution_count": 15,
   "metadata": {},
   "outputs": [
    {
     "name": "stdout",
     "output_type": "stream",
     "text": [
      "*****\n",
      "*\n",
      "****\n",
      "**\n",
      "***\n",
      "***\n",
      "**\n",
      "****\n",
      "*\n",
      "*****\n"
     ]
    }
   ],
   "source": [
    "for i in range(1, 11):\n",
    "    \n",
    "    if i % 2 != 0:\n",
    "        for j in range(1, (13 - i) // 2 ):\n",
    "            print(\"*\",end=\"\")\n",
    "    else:\n",
    "        for j in range(1, (i + 3)// 2 ):\n",
    "            print(\"*\",end=\"\")\n",
    "    print()\n",
    "\n"
   ]
  },
  {
   "cell_type": "markdown",
   "metadata": {},
   "source": [
    "## 2. Arrays"
   ]
  },
  {
   "cell_type": "markdown",
   "metadata": {},
   "source": [
    "#### 2.1  Arrays"
   ]
  },
  {
   "cell_type": "code",
   "execution_count": 1,
   "metadata": {},
   "outputs": [
    {
     "name": "stdout",
     "output_type": "stream",
     "text": [
      "1\n",
      "2\n",
      "3\n",
      "4\n",
      "5\n"
     ]
    }
   ],
   "source": [
    "def store_numbers(n):\n",
    "    \"\"\"Function to store the number from 1 to n \n",
    "    Note - After storing return the list \"\"\"\n",
    "\n",
    "\n",
    "    list1 = list(range(1,n+1))\n",
    "    return(list1)\n",
    "   \n",
    "    \"\"\"Dont change anything below. If changed click on reset.\"\"\"\n",
    "def main():\n",
    "    n=int(input())\n",
    "    output = store_numbers(n)\n",
    "    for i in range(0,n):\n",
    "        print(output[i])\n",
    "    \n",
    "main()"
   ]
  },
  {
   "cell_type": "markdown",
   "metadata": {},
   "source": [
    "#### 2.2 Minimum in an array"
   ]
  },
  {
   "cell_type": "code",
   "execution_count": 2,
   "metadata": {},
   "outputs": [
    {
     "name": "stdout",
     "output_type": "stream",
     "text": [
      "1\n"
     ]
    }
   ],
   "source": [
    "def find_minimum(arr, length):\n",
    "    \"\"\"Function to find the maximum in the array \n",
    "    return the maximum value\"\"\"\n",
    "    \n",
    "    min=arr[0]\n",
    "    for i in range(length):\n",
    "        if min>=arr[i]:\n",
    "            min=arr[i]\n",
    "    return(min)\n",
    "                \n",
    "    \n",
    "    \"\"\"Dont change anything below. If changed click on reset.\"\"\"\n",
    "def main():\n",
    "    n = int(input())\n",
    "    arr=[]\n",
    "    for i in range(n):\n",
    "        arr.append(int(input()))\n",
    "    print(find_minimum(arr, n))\n",
    "    \n",
    "main()"
   ]
  },
  {
   "cell_type": "markdown",
   "metadata": {},
   "source": [
    "#### 2.3 Print n prime numbers"
   ]
  },
  {
   "cell_type": "code",
   "execution_count": 62,
   "metadata": {},
   "outputs": [
    {
     "name": "stdout",
     "output_type": "stream",
     "text": [
      "2\n",
      "3\n",
      "5\n",
      "7\n",
      "11\n"
     ]
    }
   ],
   "source": [
    "n=int(input())\n",
    "num=2\n",
    "count=0\n",
    "arr=[]\n",
    "while count<n:\n",
    "    flag=True\n",
    "    for i in range(2,num):\n",
    "        if num%i==0:\n",
    "            flag=False\n",
    "            break\n",
    "        \n",
    "    if flag:\n",
    "        arr.append(num)\n",
    "        count+=1\n",
    "    num+=1\n",
    "\n",
    "for i in arr:\n",
    "    print(i)"
   ]
  },
  {
   "cell_type": "markdown",
   "metadata": {},
   "source": [
    "#### 2.4 Subarrays"
   ]
  },
  {
   "cell_type": "code",
   "execution_count": 31,
   "metadata": {},
   "outputs": [
    {
     "name": "stdout",
     "output_type": "stream",
     "text": [
      "[1, 1, 2, 1, 2, 3, 1, 2, 3, 4, 1, 2, 3, 4, 5, 2, 2, 3, 2, 3, 4, 2, 3, 4, 5, 3, 3, 4, 3, 4, 5, 4, 4, 5, 5]\n"
     ]
    }
   ],
   "source": [
    "n=[1,2,3,4,5]\n",
    "arr=[]\n",
    "for i in range(len(n)):\n",
    "    for j in range(i,len(n)):\n",
    "        for k in range(i,j+1):\n",
    "            #print(n[k],end=\"\")\n",
    "            arr.append(n[k])\n",
    "print(arr)  \n",
    "          \n"
   ]
  },
  {
   "cell_type": "code",
   "execution_count": 12,
   "metadata": {},
   "outputs": [
    {
     "name": "stdout",
     "output_type": "stream",
     "text": [
      "1\n",
      "12\n",
      "123\n",
      "1234\n",
      "12345\n",
      "2\n",
      "23\n",
      "234\n",
      "2345\n",
      "3\n",
      "34\n",
      "345\n",
      "4\n",
      "45\n",
      "5\n"
     ]
    }
   ],
   "source": [
    "n=[1,2,3,4,5]\n",
    "i=0\n",
    "while i<len(n):\n",
    "    j=i\n",
    "    while j<len(n):\n",
    "        k=i\n",
    "        while k<=j:\n",
    "            print(n[k],end=\"\")\n",
    "            k+=1\n",
    "        print()\n",
    "        j+=1\n",
    "    i+=1"
   ]
  },
  {
   "cell_type": "markdown",
   "metadata": {},
   "source": [
    "#### 2.5 Maximum sum subarray"
   ]
  },
  {
   "cell_type": "code",
   "execution_count": 57,
   "metadata": {},
   "outputs": [
    {
     "name": "stdout",
     "output_type": "stream",
     "text": [
      "[3, 6, 7]\n",
      "7\n"
     ]
    }
   ],
   "source": [
    "n=[[1,2],[2,4],[1,3,3]]\n",
    "arr=[]\n",
    "for i in range(len(n)):\n",
    "    sum=0\n",
    "    for j in range(len(n[i])):\n",
    "        sum+=n[i][j]\n",
    "    arr.append(sum)\n",
    "print(arr)\n",
    "\n",
    "max=arr[0]\n",
    "for i in range(len(arr)):\n",
    "    if max<=arr[i]:\n",
    "        max=arr[i]\n",
    "print(max)\n",
    "\n"
   ]
  },
  {
   "cell_type": "code",
   "execution_count": 2,
   "metadata": {},
   "outputs": [
    {
     "name": "stdout",
     "output_type": "stream",
     "text": [
      "6\n"
     ]
    }
   ],
   "source": [
    "n=[1,2,3]\n",
    "max=n[0]\n",
    "for i in range(len(n)):    \n",
    "    for j in range(i,len(n)):\n",
    "        sum=0\n",
    "        for k in range(i,j+1):\n",
    "            sum+=n[k]\n",
    "        if max<sum:\n",
    "            max=sum\n",
    "print(max)          "
   ]
  },
  {
   "cell_type": "markdown",
   "metadata": {},
   "source": [
    "#### 2.6 Running sum of 1d array"
   ]
  },
  {
   "cell_type": "code",
   "execution_count": 65,
   "metadata": {},
   "outputs": [
    {
     "name": "stdout",
     "output_type": "stream",
     "text": [
      "[1, 3, 6, 10]\n"
     ]
    }
   ],
   "source": [
    "arr=[1,2,3,4]\n",
    "res=[]\n",
    "sum=0\n",
    "for i in range(len(arr)):\n",
    "        sum+= arr[i]\n",
    "        res.append(sum)\n",
    "print(res)"
   ]
  },
  {
   "cell_type": "code",
   "execution_count": 2,
   "metadata": {},
   "outputs": [
    {
     "name": "stdout",
     "output_type": "stream",
     "text": [
      "1 3 6 10\n"
     ]
    }
   ],
   "source": [
    "def running_sum(arr, length):\n",
    "    \"\"\"Function to find the minimum in the array \n",
    "    return the minimum value\"\"\"\n",
    "    \n",
    "    sum=0\n",
    "    res=[]\n",
    "    for i in range(len(arr)):\n",
    "            sum+= arr[i]\n",
    "            res.append(sum)\n",
    "            \n",
    "    #for i in range(len(res)):\n",
    "    #    print(res[i],end=\" \")\n",
    "    print(*res)\n",
    "            \n",
    "    \n",
    "    \"\"\"Dont change anything below. If changed click on reset.\"\"\"\n",
    "def main():\n",
    "    n = int(input())\n",
    "    arr=[]\n",
    "    for i in range(n):\n",
    "        arr.append(int(input()))\n",
    "    \n",
    "    running_sum(arr, n) \n",
    "    \n",
    "    \n",
    "main()"
   ]
  },
  {
   "cell_type": "markdown",
   "metadata": {},
   "source": [
    "#### 2.7 Maximum in 2d array"
   ]
  },
  {
   "cell_type": "code",
   "execution_count": 8,
   "metadata": {},
   "outputs": [
    {
     "name": "stdout",
     "output_type": "stream",
     "text": [
      "52\n"
     ]
    }
   ],
   "source": [
    "n=[[1,50,1],[7,7],[10,5]]\n",
    "max=n[0][0]\n",
    "for i in range(len(n)):\n",
    "    sum=0\n",
    "    for j in range(len(n[i])):\n",
    "        sum+=n[i][j]\n",
    "        \n",
    "        if max<sum:\n",
    "            max=sum\n",
    "print(max)        "
   ]
  },
  {
   "cell_type": "markdown",
   "metadata": {},
   "source": [
    "#### 2.8 Sum of odd length subarrays"
   ]
  },
  {
   "cell_type": "code",
   "execution_count": 30,
   "metadata": {},
   "outputs": [
    {
     "name": "stdout",
     "output_type": "stream",
     "text": [
      "15\n"
     ]
    }
   ],
   "source": [
    "n=[1,2,1,2]\n",
    "sum=0\n",
    "for i in range(len(n)):\n",
    "    for j in range(i,len(n),2):\n",
    "       for k in range(i,j+1):\n",
    "            sum+=n[k]\n",
    "print(sum) "
   ]
  },
  {
   "cell_type": "markdown",
   "metadata": {},
   "source": [
    "#### 2.9 Missing number"
   ]
  },
  {
   "cell_type": "code",
   "execution_count": 37,
   "metadata": {},
   "outputs": [
    {
     "name": "stdout",
     "output_type": "stream",
     "text": [
      "1\n"
     ]
    }
   ],
   "source": [
    "arr=[3,4,2,5,6,7,8]\n",
    "n=len(arr)+1\n",
    "sum=0\n",
    "sum1=0\n",
    "for i in range(len(arr)):\n",
    "    sum+=arr[i]\n",
    "for i in range(1,n+1):\n",
    "    sum1+=i\n",
    "print(sum1-sum)"
   ]
  },
  {
   "cell_type": "markdown",
   "metadata": {},
   "source": [
    "#### 2.10 Bubble sort"
   ]
  },
  {
   "cell_type": "code",
   "execution_count": 14,
   "metadata": {},
   "outputs": [
    {
     "name": "stdout",
     "output_type": "stream",
     "text": [
      "[-9, 1, 4, 7, 8, 13]\n"
     ]
    }
   ],
   "source": [
    "a=[8,7,13,1,-9,4]\n",
    "n=len(a)\n",
    "for i in range(n):\n",
    "    for j in range(n-i-1):\n",
    "        if a[j]>a[j+1]:\n",
    "            a[j+1], a[j]= a[j], a[j+1]\n",
    "print(a)"
   ]
  },
  {
   "cell_type": "markdown",
   "metadata": {},
   "source": [
    "#### 2.11 Selection sort"
   ]
  },
  {
   "cell_type": "code",
   "execution_count": 25,
   "metadata": {},
   "outputs": [
    {
     "name": "stdout",
     "output_type": "stream",
     "text": [
      "[-9, 1, 4, 7, 8, 13]\n"
     ]
    }
   ],
   "source": [
    "a=[8,7,13,1,-9,4]\n",
    "n=len(a)\n",
    "for i in range(n):\n",
    "    min=i\n",
    "    for j in range(i+1,n):\n",
    "        if a[j]<a[min]:\n",
    "            min=j\n",
    "    a[min],a[i]= a[i],a[min]\n",
    "print(a)       "
   ]
  },
  {
   "cell_type": "markdown",
   "metadata": {},
   "source": [
    "#### 2.12 Insertion Sort"
   ]
  },
  {
   "cell_type": "code",
   "execution_count": 5,
   "metadata": {},
   "outputs": [
    {
     "name": "stdout",
     "output_type": "stream",
     "text": [
      "[-9, 1, 4, 7, 8, 13]\n"
     ]
    }
   ],
   "source": [
    "arr=[8,7,13,1,-9,4]\n",
    "size=len(arr)\n",
    "for i in range(1,size):\n",
    "    temp=arr[i]\n",
    "    j=i-1\n",
    "    while j>=0 and temp<arr[j]:\n",
    "        arr[j+1] = arr[j]\n",
    "        arr[j]=temp\n",
    "        j-=1    \n",
    "print(arr)"
   ]
  },
  {
   "cell_type": "code",
   "execution_count": 4,
   "metadata": {},
   "outputs": [
    {
     "name": "stdout",
     "output_type": "stream",
     "text": [
      "[-9, 0, 7, 7, 8, 9]\n"
     ]
    }
   ],
   "source": [
    "arr=[8,7,7,0,-9,9]\n",
    "for i in range(1,len(arr)):\n",
    "    j=i\n",
    "    while arr[j]<arr[j-1] and j>0:\n",
    "        arr[j-1], arr[j]= arr[j], arr[j-1]\n",
    "        j-=1\n",
    "print(arr)"
   ]
  },
  {
   "cell_type": "markdown",
   "metadata": {},
   "source": [
    "#### 2.13 Non Duplicate Element"
   ]
  },
  {
   "cell_type": "code",
   "execution_count": 2,
   "metadata": {},
   "outputs": [
    {
     "name": "stdout",
     "output_type": "stream",
     "text": [
      "3\n"
     ]
    }
   ],
   "source": [
    "arr=[1,3,2,4,6,6,2,1,4]\n",
    "for i in range(len(arr)):\n",
    "    count=0\n",
    "    for j in range(len(arr)):\n",
    "        if arr[i]==arr[j]:\n",
    "            count+=1\n",
    "        \n",
    "    if count==1:\n",
    "        print(arr[i])  "
   ]
  },
  {
   "cell_type": "code",
   "execution_count": 25,
   "metadata": {},
   "outputs": [
    {
     "name": "stdout",
     "output_type": "stream",
     "text": [
      "3\n"
     ]
    }
   ],
   "source": [
    "# Using Dictionary\n",
    "arr=[1,3,2,4,6,6,2,1,4]\n",
    "count={}\n",
    "for item in arr:\n",
    "    if item in count:\n",
    "        count[item]+=1\n",
    "    else:\n",
    "        count[item]=1\n",
    "\n",
    "for key,value in count.items():\n",
    "    # print(key,\":\",value)\n",
    "    if value==1:\n",
    "        print(key)"
   ]
  },
  {
   "cell_type": "code",
   "execution_count": 15,
   "metadata": {},
   "outputs": [
    {
     "name": "stdout",
     "output_type": "stream",
     "text": [
      "8\n"
     ]
    }
   ],
   "source": [
    "# Using XOR\n",
    "arr=[1,3,3,4,6,6,2,1,8,4,2]\n",
    "for i in range(len(arr)-1):\n",
    "    arr[i+1]=arr[i]^arr[i+1]\n",
    "print(arr[len(arr)-1])"
   ]
  },
  {
   "cell_type": "markdown",
   "metadata": {},
   "source": [
    "#### 2.14 Greater than neighbour"
   ]
  },
  {
   "cell_type": "code",
   "execution_count": 2,
   "metadata": {},
   "outputs": [
    {
     "name": "stdout",
     "output_type": "stream",
     "text": [
      "5\n"
     ]
    }
   ],
   "source": [
    "# Return index of the element which is greater than its neighbours\n",
    "def super_hill(arr):\n",
    "        for i in range(1,len(arr)-1):\n",
    "            if arr[i] > arr[i-1] and arr[i] > arr[i+1]:\n",
    "                return i\n",
    "        return not i\n",
    "\n",
    "arr = [1,2,2,3,5,6,4]\n",
    "print(super_hill(arr))"
   ]
  },
  {
   "cell_type": "markdown",
   "metadata": {},
   "source": [
    "#### 2.15 Count bigger numbers for all elements in the array"
   ]
  },
  {
   "cell_type": "code",
   "execution_count": 3,
   "metadata": {},
   "outputs": [
    {
     "name": "stdout",
     "output_type": "stream",
     "text": [
      "[0, 1, 2, 3, 4]\n"
     ]
    }
   ],
   "source": [
    "def Biggerthanme(nums):\n",
    "    res = []\n",
    "    for i in range(len(nums)):\n",
    "        greater = 0\n",
    "        for j in range(len(nums)):\n",
    "            if nums[j] > nums[i]:\n",
    "                greater += 1\n",
    "        res.append(greater)\n",
    "    return res\n",
    "\n",
    "nums = [9,5,3,2,1]\n",
    "print(Biggerthanme(nums))"
   ]
  },
  {
   "cell_type": "markdown",
   "metadata": {},
   "source": [
    "#### 2.16 Count difference in two strings"
   ]
  },
  {
   "cell_type": "code",
   "execution_count": 4,
   "metadata": {},
   "outputs": [
    {
     "name": "stdout",
     "output_type": "stream",
     "text": [
      "4\n"
     ]
    }
   ],
   "source": [
    "def calculate_difference(k1, k2):\n",
    "    # print(ord('a')-ord('A'))\n",
    "    diff = 0\n",
    "    for i in range(len(k1)):\n",
    "        if abs(ord(k1[i]) - ord(k2[i])) != 32 and abs(ord(k1[i]) - ord(k2[i])) != 0:\n",
    "            diff += 1\n",
    "    return diff\n",
    "\n",
    "k1 = 'Hello'\n",
    "k2 = 'World'\n",
    "print(calculate_difference(k1,k2))"
   ]
  },
  {
   "cell_type": "markdown",
   "metadata": {},
   "source": [
    "#### 2.17 Sort strings in an array based on no. of 'a'"
   ]
  },
  {
   "cell_type": "code",
   "execution_count": 6,
   "metadata": {},
   "outputs": [
    {
     "name": "stdout",
     "output_type": "stream",
     "text": [
      "['aabaca', 'almanac', 'vaibhav', 'fat', 'button', 'is']\n"
     ]
    }
   ],
   "source": [
    "def AAA_sort(arr):\n",
    "    def count_fn(element):\n",
    "        count = 0\n",
    "        for i in element:\n",
    "            if i == 'a':\n",
    "                count += 1\n",
    "        return count\n",
    "    \n",
    "    for i in range(len(arr)):\n",
    "        for j in range(len(arr)-i-1):\n",
    "            if count_fn(arr[j+1]) > count_fn(arr[j]) or (count_fn(arr[j+1]) == count_fn(arr[j]) and len(arr[j+1]) > len(arr[j])):\n",
    "                arr[j+1],arr[j] = arr[j], arr[j+1]\n",
    "    return arr\n",
    "\n",
    "arr = [\"vaibhav\", \"almanac\" , \"is\" ,\"fat\", \"button\",\"aabaca\"]\n",
    "print(AAA_sort(arr))"
   ]
  },
  {
   "cell_type": "markdown",
   "metadata": {},
   "source": [
    "## 3. Bit manipulation and complexity"
   ]
  },
  {
   "cell_type": "markdown",
   "metadata": {},
   "source": [
    "#### 3.1 Counting set bits in a binary number"
   ]
  },
  {
   "cell_type": "code",
   "execution_count": 4,
   "metadata": {},
   "outputs": [
    {
     "name": "stdout",
     "output_type": "stream",
     "text": [
      "2\n"
     ]
    }
   ],
   "source": [
    "# Using Right Shift\n",
    "n=9\n",
    "count_set_bit=0\n",
    "while n:\n",
    "    if n & 1 == 1:\n",
    "        count_set_bit+=1\n",
    "    n>>=1\n",
    "print(count_set_bit)"
   ]
  },
  {
   "cell_type": "markdown",
   "metadata": {},
   "source": [
    "#### 3.2 Check for alternating bits in an integer"
   ]
  },
  {
   "cell_type": "code",
   "execution_count": 17,
   "metadata": {},
   "outputs": [
    {
     "name": "stdout",
     "output_type": "stream",
     "text": [
      "true\n"
     ]
    }
   ],
   "source": [
    "n=1\n",
    "num=bin(n)[2:]\n",
    "flag =  True\n",
    "for i in range(len(num)-1):\n",
    "    if int(num[i])^int(num[i+1])!=1:\n",
    "        flag = False\n",
    "        print(\"false\")\n",
    "        break\n",
    "# while n:\n",
    "#     if (n & 1) ^ ((n >> 1) & 1) == 0:\n",
    "#         flag = False\n",
    "#         print(\"false\")\n",
    "#         break\n",
    "#     n >>= 1\n",
    "if flag:\n",
    "    print(\"true\")"
   ]
  },
  {
   "cell_type": "markdown",
   "metadata": {},
   "source": [
    "#### 3.3 Number to Hexadecimal"
   ]
  },
  {
   "cell_type": "code",
   "execution_count": 19,
   "metadata": {},
   "outputs": [
    {
     "name": "stdout",
     "output_type": "stream",
     "text": [
      "4294967204\n",
      "ffffffa4\n"
     ]
    }
   ],
   "source": [
    "n=-92\n",
    "rem=''\n",
    "# 2's compliment using shifting\n",
    "if n<0:             \n",
    "    # n=n & 0xFFFFFFFF\n",
    "    n+=1<<32\n",
    "print(n)\n",
    "while n:\n",
    "    r=n%16\n",
    "    n=n//16\n",
    "\n",
    "    if r==10:\n",
    "        r='a'\n",
    "    elif r==11:\n",
    "        r='b'\n",
    "    elif r==12:\n",
    "        r='c'\n",
    "    elif r==13:\n",
    "        r='d'\n",
    "    elif r==14:\n",
    "        r='e'\n",
    "    elif r==15:\n",
    "        r='f'  \n",
    "\n",
    "    rem+=str(r)\n",
    "\n",
    "print(rem[::-1])\n",
    "# for i in range(len(rem)-1,-1,-1):\n",
    "#     print(rem[i],end=\"\")"
   ]
  },
  {
   "cell_type": "markdown",
   "metadata": {},
   "source": [
    "#### 3.4 Sort integers by number of set bits"
   ]
  },
  {
   "cell_type": "code",
   "execution_count": 6,
   "metadata": {},
   "outputs": [
    {
     "name": "stdout",
     "output_type": "stream",
     "text": [
      "[6, 3, 4]\n",
      "[111, 11, 92]\n",
      "[11, 92, 111]\n"
     ]
    }
   ],
   "source": [
    "arr=[111,11,92]\n",
    "# arr=[1024 ,512 ,256 ,128 ,64 ,32 ,16 ,8 ,4 ,2 ,1]\n",
    "arr2=[]\n",
    "for item in arr:\n",
    "    count_set_bit=0\n",
    "    while item:\n",
    "        if item & 1==1:\n",
    "            count_set_bit+=1\n",
    "        item>>=1\n",
    "    arr2.append(count_set_bit)\n",
    "print(arr2)\n",
    "print(arr)\n",
    "for i in range(len(arr)):    \n",
    "    for j in range(0,len(arr)-i-1):\n",
    "        if arr2[j]>arr2[j+1] or arr2[j]==arr2[j+1] and arr[j]>arr[j+1] :\n",
    "            arr2[j+1], arr2[j]= arr2[j], arr2[j+1]\n",
    "            arr[j+1], arr[j]= arr[j], arr[j+1]\n",
    "# for i in range(len(arr)):\n",
    "print(arr)"
   ]
  },
  {
   "cell_type": "markdown",
   "metadata": {},
   "source": [
    "#### 3.5 Division of two numbers without using arithmetic operators"
   ]
  },
  {
   "cell_type": "code",
   "execution_count": 9,
   "metadata": {},
   "outputs": [
    {
     "name": "stdout",
     "output_type": "stream",
     "text": [
      "-5\n"
     ]
    }
   ],
   "source": [
    "dividend=-43\n",
    "divisor=8\n",
    "a=abs(dividend)\n",
    "b=abs(divisor)\n",
    "\n",
    "sign=0\n",
    "if dividend<0 and divisor<0 or dividend>0 and divisor>0:\n",
    "    sign=1\n",
    "\n",
    "q=0\n",
    "while a>=b:\n",
    "    a-=b\n",
    "    q+=1\n",
    "\n",
    "if not sign:\n",
    "    q=-q\n",
    "    print(q)"
   ]
  },
  {
   "cell_type": "markdown",
   "metadata": {},
   "source": [
    "#### 3.6 Rotate array left"
   ]
  },
  {
   "cell_type": "code",
   "execution_count": 65,
   "metadata": {},
   "outputs": [
    {
     "name": "stdout",
     "output_type": "stream",
     "text": [
      "[3, 4, 5, 6, 7, 1, 2]\n"
     ]
    }
   ],
   "source": [
    "n=2\n",
    "arr=[1,2,3,4,5,6,7]\n",
    "b=[]\n",
    "for i in range(n):\n",
    "    b.append(arr[i])\n",
    "for i in range(len(arr)-n):\n",
    "    arr[i]=arr[i+n]\n",
    "for i in range(n):    \n",
    "     arr[i-n]=b[i]\n",
    "print(arr)"
   ]
  },
  {
   "cell_type": "markdown",
   "metadata": {},
   "source": [
    "#### 3.7 Rotate array right"
   ]
  },
  {
   "cell_type": "code",
   "execution_count": 3,
   "metadata": {},
   "outputs": [
    {
     "name": "stdout",
     "output_type": "stream",
     "text": [
      "[5, 6, 7, 1, 2, 3, 4]\n"
     ]
    }
   ],
   "source": [
    "k=10\n",
    "nums=[1,2,3,4,5,6,7]\n",
    "b=[]\n",
    "if k>len(nums):\n",
    "    k%=len(nums)\n",
    "for i in range(len(nums)-k,len(nums)):\n",
    "    b.append(nums[i])\n",
    "for i in range(len(nums)-k):    \n",
    "    nums[-i-1]=nums[-i-k-1]\n",
    "for i in range(k):    \n",
    "    nums[i]=b[i]\n",
    "print(nums)"
   ]
  },
  {
   "cell_type": "code",
   "execution_count": 20,
   "metadata": {},
   "outputs": [
    {
     "name": "stdout",
     "output_type": "stream",
     "text": [
      "[3, 4, 5, 1, 2]\n"
     ]
    }
   ],
   "source": [
    "# Rotate using while loop\n",
    "arr=[1,2,3,4,5]\n",
    "d=2\n",
    "a=1\n",
    "while a<=d:\n",
    "    b=0\n",
    "    b=arr[0]\n",
    "    for i in range(len(arr)-1):\n",
    "        arr[i]=arr[i+1]\n",
    "    arr[-1]=b\n",
    "    a+=1\n",
    "print(arr)"
   ]
  },
  {
   "cell_type": "code",
   "execution_count": 10,
   "metadata": {},
   "outputs": [
    {
     "name": "stdout",
     "output_type": "stream",
     "text": [
      "[4, 5, 1, 2, 3]\n",
      "[3, 4, 5, 1, 2]\n"
     ]
    }
   ],
   "source": [
    "# Using slicing\n",
    "def rotate_right(arr,d):\n",
    "    return arr[-d:] + arr[:-d]\n",
    "\n",
    "def rotate_left(arr,d):\n",
    "    return arr[d:] + arr[:d]\n",
    "\n",
    "arr = [1,2,3,4,5]\n",
    "d = 2\n",
    "print(rotate_right(arr,d))\n",
    "print(rotate_left(arr,d))"
   ]
  },
  {
   "cell_type": "code",
   "execution_count": 22,
   "metadata": {},
   "outputs": [
    {
     "name": "stdout",
     "output_type": "stream",
     "text": [
      "[3, 4, 5, 1, 2]\n"
     ]
    }
   ],
   "source": [
    "# Rotate using for loop\n",
    "arr=[1,2,3,4,5]\n",
    "d=2\n",
    "for i in range(d):\n",
    "    b=0\n",
    "    b=arr[0]\n",
    "    for i in range(len(arr)-1):\n",
    "        arr[i]=arr[i+1]\n",
    "    arr[-1]=b\n",
    "print(arr)"
   ]
  },
  {
   "cell_type": "code",
   "execution_count": 14,
   "metadata": {},
   "outputs": [
    {
     "name": "stdout",
     "output_type": "stream",
     "text": [
      "[4, 5, 1, 2, 3]\n"
     ]
    }
   ],
   "source": [
    "arr=[1,2,3,4,5]\n",
    "d=2\n",
    "b=[]\n",
    "for i in range(len(arr)):\n",
    "    b.append(0)\n",
    "for i in range(len(arr)):\n",
    "    pos=(i+d)%len(arr)\n",
    "    b[pos]=arr[i]\n",
    "print(b)"
   ]
  },
  {
   "cell_type": "code",
   "execution_count": 6,
   "metadata": {},
   "outputs": [
    {
     "name": "stdout",
     "output_type": "stream",
     "text": [
      "5 6 7 1 2 3 4 "
     ]
    }
   ],
   "source": [
    "arr=[1,2,3,4,5,6,7]\n",
    "d=3\n",
    "for i in range(len(arr)):\n",
    "    print(arr[(i-d)],end=\" \")"
   ]
  },
  {
   "cell_type": "markdown",
   "metadata": {},
   "source": [
    "#### 3.8 Disappearing elements in an array"
   ]
  },
  {
   "cell_type": "code",
   "execution_count": 4,
   "metadata": {},
   "outputs": [
    {
     "name": "stdout",
     "output_type": "stream",
     "text": [
      "[7]\n"
     ]
    }
   ],
   "source": [
    "arr=[1,3,6,5,4,2,4]\n",
    "b=[]\n",
    "for i in range(len(arr)):\n",
    "    if i+1 not in arr:\n",
    "        b.append(i+1)\n",
    "print(b)"
   ]
  },
  {
   "cell_type": "markdown",
   "metadata": {},
   "source": [
    "#### 3.9 Palindrome or not"
   ]
  },
  {
   "cell_type": "code",
   "execution_count": 3,
   "metadata": {},
   "outputs": [
    {
     "name": "stdout",
     "output_type": "stream",
     "text": [
      "true\n"
     ]
    }
   ],
   "source": [
    "word=\"ababa\"\n",
    "flag=0\n",
    "for i in range((len(word)//2)):\n",
    "    if word[i]==word[-i-1]:\n",
    "        flag=1\n",
    "    else:\n",
    "        flag=0\n",
    "        break\n",
    "print(\"true\" if flag else \"false\")"
   ]
  },
  {
   "cell_type": "markdown",
   "metadata": {},
   "source": [
    "#### 3.10 Maximum number of words"
   ]
  },
  {
   "cell_type": "code",
   "execution_count": 25,
   "metadata": {},
   "outputs": [
    {
     "name": "stdout",
     "output_type": "stream",
     "text": [
      "7\n"
     ]
    }
   ],
   "source": [
    "arr=[\"al an bo lo le\", \"i th so too\", \"ths is gat thks vey mch op\"]\n",
    "max=len(arr[0].split())\n",
    "for i in range(len(arr)-1):    \n",
    "    if max<=len(arr[i+1].split()):\n",
    "        max = len(arr[i+1].split())\n",
    "print(max)"
   ]
  },
  {
   "cell_type": "markdown",
   "metadata": {},
   "source": [
    "#### 3.11 Minimum requirement for palindrome"
   ]
  },
  {
   "cell_type": "code",
   "execution_count": 9,
   "metadata": {},
   "outputs": [
    {
     "name": "stdout",
     "output_type": "stream",
     "text": [
      "4\n"
     ]
    }
   ],
   "source": [
    "str=\"abbafeug\"\n",
    "import math\n",
    "max=0\n",
    "for i in range(len(str)):\n",
    "    flag=1\n",
    "    for j in range(math.floor((len(str)-i)/2)):\n",
    "        if str[j]!=str[-j-1-i]:\n",
    "            flag=0       \n",
    "            break             \n",
    "    if flag:\n",
    "        max=i\n",
    "        break\n",
    "print(max)"
   ]
  },
  {
   "cell_type": "markdown",
   "metadata": {},
   "source": [
    "#### 3.12 Extracting numbers"
   ]
  },
  {
   "cell_type": "code",
   "execution_count": 38,
   "metadata": {},
   "outputs": [
    {
     "name": "stdout",
     "output_type": "stream",
     "text": [
      "['334', '44', '9']\n"
     ]
    }
   ],
   "source": [
    "str = \"abc334v44d9\"\n",
    "arr=[]\n",
    "i=0\n",
    "while i<len(str):\n",
    "    if (ord(str[i])) in range(48,58):\n",
    "        j=i\n",
    "        while j<len(str) and ord(str[j]) in range(48,58):\n",
    "            j+=1\n",
    "        arr.append(str[i:j])\n",
    "        i=j\n",
    "    else:\n",
    "        i+=1\n",
    "print(arr)"
   ]
  },
  {
   "cell_type": "markdown",
   "metadata": {},
   "source": [
    "#### 3.13 Move -ve numbers to the end"
   ]
  },
  {
   "cell_type": "code",
   "execution_count": 58,
   "metadata": {},
   "outputs": [
    {
     "name": "stdout",
     "output_type": "stream",
     "text": [
      "[1, 3, 2, 11, 6, -1, -7, -5]\n"
     ]
    }
   ],
   "source": [
    "b=[]\n",
    "arr=[1, -1, 3, 2, -7, -5, 11, 6]\n",
    "for i in range(len(arr)):\n",
    "    if arr[i]>0:\n",
    "        b.append(arr[i])\n",
    "for i in arr:\n",
    "    if i not in b:\n",
    "        b.append(i)\n",
    "print(b)"
   ]
  },
  {
   "cell_type": "code",
   "execution_count": 5,
   "metadata": {},
   "outputs": [
    {
     "name": "stdout",
     "output_type": "stream",
     "text": [
      "[1, 3, 2, 11, 6, -7, -5, -1]\n"
     ]
    }
   ],
   "source": [
    "# Using double pointer method\n",
    "arr=[1, -1, 3, 2, -7, -5, 11, 6]\n",
    "i=0\n",
    "j=0\n",
    "while i<len(arr) and j<len(arr):\n",
    "    if arr[i]>=0:\n",
    "        i+=1\n",
    "        j+=1\n",
    "    else:\n",
    "        while i<len(arr)-1 and arr[i]<0:\n",
    "            i+=1\n",
    "        arr[j],arr[i]=arr[i],arr[j]\n",
    "        j+=1\n",
    "print(arr)\n"
   ]
  },
  {
   "cell_type": "markdown",
   "metadata": {},
   "source": [
    "## 4. Oops, Binary Search, Map, Set"
   ]
  },
  {
   "cell_type": "markdown",
   "metadata": {},
   "source": [
    "#### 4.1 Oops"
   ]
  },
  {
   "cell_type": "code",
   "execution_count": 1,
   "metadata": {},
   "outputs": [
    {
     "name": "stdout",
     "output_type": "stream",
     "text": [
      "torres\n",
      "bayern\n",
      "liverpool\n",
      "drogba\n",
      "la liga\n",
      "37.0\n",
      "176\n"
     ]
    }
   ],
   "source": [
    "class sport:\n",
    "\n",
    "    league = \"epl\"     # class variable\n",
    "\n",
    "    def __init__(self,t=\"chelsea\",p1=\"torres\",p2=\"lampard\",g1=45,g2=27):\n",
    "        self.team = t       # instance variable\n",
    "        self.player1 = p1   \n",
    "        self.player2 = p2\n",
    "        self.goal1 = g1\n",
    "        self.goal2 = g2\n",
    "        self.player = self.player()\n",
    "\n",
    "    def football(self):\n",
    "        self.team = \"liverpool\"\n",
    "        self.player1 =\"gerrard\"\n",
    "        self.player2 = \"salah\"\n",
    "        self.goals = 65\n",
    "\n",
    "    def avg_goals(self):\n",
    "        return (self.goal1+self.goal2)/2\n",
    "          \n",
    "    class player:   # Inner class\n",
    "\n",
    "        def __init__(self):\n",
    "            self.age = 25\n",
    "            self.height = 176\n",
    "    \n",
    "        # def show(self):\n",
    "        #     print(self.age, self.height)\n",
    "\n",
    "# t1=sport()      # Creating object\n",
    "# t2=sport()\n",
    "t1=sport()      # Default _init_ values\n",
    "t2=sport(\"bayern\",\"robben\",\"ribery\",52,22) # Update _init_ values\n",
    "print(t1.player1)\n",
    "print(t2.team)\n",
    "\n",
    "t2.football()\n",
    "print(t2.team)\n",
    "\n",
    "t1.player=\"drogba\"\n",
    "print(t1.player)\n",
    "\n",
    "t2.league = \"la liga\"\n",
    "print(t2.league)\n",
    "\n",
    "print(t2.avg_goals())\n",
    "\n",
    "print(t2.player.height)\n"
   ]
  },
  {
   "cell_type": "markdown",
   "metadata": {},
   "source": [
    "#### 4.2 Constructor"
   ]
  },
  {
   "cell_type": "code",
   "execution_count": 1,
   "metadata": {},
   "outputs": [
    {
     "name": "stdout",
     "output_type": "stream",
     "text": [
      "vaibhav\n",
      "rahul\n",
      "john\n"
     ]
    }
   ],
   "source": [
    "class Student:\n",
    "\n",
    "    def __init__(self,n=\"john\",r=2):\n",
    "        self.name=n\n",
    "        self.roll_no=r\n",
    "    \n",
    "x=Student(\"vaibhav\",101)\n",
    "print(x.name)\n",
    "y=Student(\"rahul\",102)\n",
    "print(y.name)\n",
    "obj=Student()\n",
    "print(obj.name)    "
   ]
  },
  {
   "cell_type": "markdown",
   "metadata": {},
   "source": [
    "#### 4.3 Function in a class"
   ]
  },
  {
   "cell_type": "code",
   "execution_count": 7,
   "metadata": {},
   "outputs": [
    {
     "name": "stdout",
     "output_type": "stream",
     "text": [
      "vaibhav\n",
      "101\n",
      "rahul\n",
      "102\n",
      "john\n",
      "2\n"
     ]
    }
   ],
   "source": [
    "class Student:\n",
    "\n",
    "    def __init__(self,n=\"john\",r=2):\n",
    "        self.name=n\n",
    "        self.roll_no=r\n",
    "\n",
    "    def display(self):\n",
    "        print(self.name)\n",
    "        print(self.roll_no)\n",
    "        \n",
    "x=Student(\"vaibhav\",101)\n",
    "y=Student(\"rahul\",102)\n",
    "obj=Student()\n",
    "x.display()\n",
    "y.display()\n",
    "obj.display() "
   ]
  },
  {
   "cell_type": "markdown",
   "metadata": {},
   "source": [
    "#### 4.4 Functions and objects"
   ]
  },
  {
   "cell_type": "code",
   "execution_count": 8,
   "metadata": {},
   "outputs": [
    {
     "name": "stdout",
     "output_type": "stream",
     "text": [
      "60\n",
      "12\n",
      "990\n",
      "30\n"
     ]
    }
   ],
   "source": [
    "class Triangle:\n",
    "\n",
    "    def __init__(self,s1,s2,s3):\n",
    "        self.side1=s1\n",
    "        self.side2=s2\n",
    "        self.side3=s3\n",
    "\n",
    "    def calculate_area(self):\n",
    "        return self.side1*self.side2*self.side3\n",
    "\n",
    "    def calculate_perimeter(self):\n",
    "        return self.side1+self.side2+self.side3\n",
    "\n",
    "t=Triangle(3,4,5)\n",
    "print(t.calculate_area())\n",
    "per=t.calculate_perimeter()\n",
    "print(per)\n",
    "t=Triangle(9,10,11)\n",
    "print(t.calculate_area())\n",
    "per=t.calculate_perimeter()\n",
    "print(per)"
   ]
  },
  {
   "cell_type": "markdown",
   "metadata": {},
   "source": [
    "#### 4.5 Objects"
   ]
  },
  {
   "cell_type": "code",
   "execution_count": 10,
   "metadata": {},
   "outputs": [
    {
     "name": "stdout",
     "output_type": "stream",
     "text": [
      "ram 1992 Bangalore\n",
      "shyam 2010 Lucknow\n",
      "babu_rao 2015 Delhi\n"
     ]
    }
   ],
   "source": [
    "class Employee:\n",
    "\n",
    "    def __init__(self,n,y,a):\n",
    "        self.name=n\n",
    "        self.year=y\n",
    "        self.address=a\n",
    "    \n",
    "    def print_details(self):\n",
    "        print(self.name,self.year,self.address)\n",
    "\n",
    "t=Employee(\"ram\",1992,\"Bangalore\");\n",
    "t.print_details();\n",
    "    \n",
    "x=Employee(\"shyam\",2010,\"Lucknow\");\n",
    "x.print_details();\n",
    "    \n",
    "y=Employee(\"babu_rao\",2015,\"Delhi\");\n",
    "y.print_details();"
   ]
  },
  {
   "cell_type": "markdown",
   "metadata": {},
   "source": [
    "#### 4.6 Functions and objects"
   ]
  },
  {
   "cell_type": "code",
   "execution_count": 12,
   "metadata": {},
   "outputs": [
    {
     "name": "stdout",
     "output_type": "stream",
     "text": [
      "415\n",
      "605\n"
     ]
    }
   ],
   "source": [
    "class Employee:  \n",
    "    \n",
    "    def getInfo(self,s,h):\n",
    "        self.salary=s\n",
    "        self.working_hours=h\n",
    "    \n",
    "    def AddSal(self):\n",
    "        if self.salary<500:\n",
    "            self.salary+=10\n",
    "    \n",
    "    def AddWork(self):\n",
    "        if self.working_hours>6:\n",
    "            self.salary+=5\n",
    "    \n",
    "t=Employee()\n",
    "t.getInfo(400,7)\n",
    "t.AddSal()\n",
    "t.AddWork()\n",
    "print(t.salary)\n",
    "x=Employee()\n",
    "x.getInfo(600,8)\n",
    "x.AddSal()\n",
    "x.AddWork()\n",
    "print(x.salary)"
   ]
  },
  {
   "cell_type": "markdown",
   "metadata": {},
   "source": [
    "#### 4.7 Count the number of objects created"
   ]
  },
  {
   "cell_type": "code",
   "execution_count": 2,
   "metadata": {},
   "outputs": [
    {
     "name": "stdout",
     "output_type": "stream",
     "text": [
      "3\n",
      "4\n",
      "5\n"
     ]
    }
   ],
   "source": [
    "class count_objects:\n",
    "    i=0\n",
    "\n",
    "    def __init__(self):\n",
    "        count_objects.i+=1\n",
    "\n",
    "a = count_objects()\n",
    "b = count_objects()\n",
    "c = count_objects()\n",
    "print(count_objects.i)\n",
    "d = count_objects()\n",
    "print(count_objects.i)\n",
    "e = count_objects()\n",
    "print(count_objects.i)"
   ]
  },
  {
   "cell_type": "markdown",
   "metadata": {},
   "source": [
    "#### 4.8 Inheritance-1"
   ]
  },
  {
   "cell_type": "code",
   "execution_count": 11,
   "metadata": {},
   "outputs": [
    {
     "name": "stdout",
     "output_type": "stream",
     "text": [
      "Square is rectangle\n",
      "This is shape\n",
      "This is rectangle\n",
      "This is circle\n",
      "This is shape\n"
     ]
    }
   ],
   "source": [
    "class Shape:\n",
    "    def printShape(self):\n",
    "        print(\"This is shape\")\n",
    "\n",
    "class Rectangle(Shape):\n",
    "    def print(self):\n",
    "        print(\"This is rectangle\")\n",
    "    \n",
    "class Circle(Shape):\n",
    "    def print(self):\n",
    "        print(\"This is circle\")\n",
    "\n",
    "class Square(Rectangle): \n",
    "    def printSquare(self):\n",
    "        print(\"Square is rectangle\")\n",
    "\n",
    "x = Square()\n",
    "x.printSquare()\n",
    "x.printShape()\n",
    "x.print()\n",
    "y= Circle()\n",
    "y.print()\n",
    "y.printShape()"
   ]
  },
  {
   "cell_type": "markdown",
   "metadata": {},
   "source": [
    "#### 4.9 Inheritance-2"
   ]
  },
  {
   "cell_type": "code",
   "execution_count": 9,
   "metadata": {},
   "outputs": [
    {
     "name": "stdout",
     "output_type": "stream",
     "text": [
      "this is a parent class\n",
      "this is a child class\n",
      "this is a parent class\n"
     ]
    }
   ],
   "source": [
    "class PARENT:\n",
    "    def print(self):\n",
    "        print(\"this is a parent class\")\n",
    "    \n",
    "class CHILD(PARENT):\n",
    "    def print(self):\n",
    "        print(\"this is a child class\")\n",
    "        super().print()\n",
    "\n",
    "obj_parent = PARENT()\n",
    "obj_parent.print()\n",
    "    \n",
    "obj_child = CHILD()\n",
    "obj_child.print()"
   ]
  },
  {
   "cell_type": "markdown",
   "metadata": {},
   "source": [
    "#### 4.10 Inheritance-3"
   ]
  },
  {
   "cell_type": "code",
   "execution_count": 16,
   "metadata": {},
   "outputs": [
    {
     "name": "stdout",
     "output_type": "stream",
     "text": [
      "Ram\n",
      "cse\n",
      "1000\n",
      "Shyam\n",
      "civil\n",
      "2000\n",
      "babu\n",
      "JP\n",
      "1000\n",
      "Rao\n",
      "GC\n",
      "3000\n"
     ]
    }
   ],
   "source": [
    "class Member:\n",
    "    def __init__(self,name,age,phone,address,salary):\n",
    "        self.name=name\n",
    "        self.phone=phone\n",
    "        self.age=age\n",
    "        self.address=address\n",
    "        self.salary=salary\n",
    "    \n",
    "    def printSalary(self):\n",
    "        print(self.salary)\n",
    "    \n",
    "class Employee(Member):\n",
    "    def __init__(self,name,age,phone,address,salary,spec):\n",
    "        super().__init__(name,age,phone,address,salary)\n",
    "        self.spec=spec\n",
    "    \n",
    "    def print_details(self):\n",
    "        print(self.name)\n",
    "        print(self.spec)\n",
    "        super().printSalary()\n",
    "    \n",
    "class Manager(Member):    \n",
    "    def __init__(self,name,age,phone,address,salary,dept):        \n",
    "        super().__init__(name,age,phone,address,salary)\n",
    "        self.dept=dept\n",
    "\n",
    "    def print_details(self):\n",
    "        print(self.name)\n",
    "        print(self.dept)\n",
    "        super().printSalary()\n",
    "\n",
    "obj = Employee(\"Ram\",25,\"7003\",\"Bangalore\",1000,\"cse\");\n",
    "obj.print_details();\n",
    "    \n",
    "obj1 = Employee(\"Shyam\",250,\"8098\",\"Chennai\",2000,\"civil\");\n",
    "obj1.print_details();\n",
    "    \n",
    "obj_Man = Manager(\"babu\",100,\"1234\",\"Bangalore\",1000,\"JP\");\n",
    "obj_Man.print_details();\n",
    "    \n",
    "obj1_Man = Manager(\"Rao\",250,\"456\",\"Kerala\",3000,\"GC\");\n",
    "obj1_Man.print_details();"
   ]
  },
  {
   "cell_type": "markdown",
   "metadata": {},
   "source": [
    "#### 4.11 Binary Search"
   ]
  },
  {
   "cell_type": "code",
   "execution_count": 135,
   "metadata": {},
   "outputs": [
    {
     "name": "stdout",
     "output_type": "stream",
     "text": [
      "14\n"
     ]
    }
   ],
   "source": [
    "arr=[1,3,5,8,11,23,34,37,44,56,66,81,99,106,305]\n",
    "key=305\n",
    "l=0\n",
    "h=len(arr)-1\n",
    "mid=0\n",
    "while l<=h:\n",
    "    mid=(l+h)//2\n",
    "    if key==arr[mid]:\n",
    "        print(mid)\n",
    "        break\n",
    "    if key<arr[mid]:\n",
    "        h=mid-1\n",
    "    if key>arr[mid]:\n",
    "        l=mid+1\n",
    "    if l>h:\n",
    "        print(\"Not found\")\n",
    "        break       "
   ]
  },
  {
   "cell_type": "markdown",
   "metadata": {},
   "source": [
    "#### 4.12 Search for peak element"
   ]
  },
  {
   "cell_type": "code",
   "execution_count": 84,
   "metadata": {},
   "outputs": [
    {
     "data": {
      "text/plain": [
       "6"
      ]
     },
     "execution_count": 84,
     "metadata": {},
     "output_type": "execute_result"
    }
   ],
   "source": [
    "class Solution(object):\n",
    "    def findPeakElement(self, nums):\n",
    "        start = 0\n",
    "        end = len(nums) - 1\n",
    "        while start <=end:\n",
    "            mid = (start + end) // 2\n",
    "            if start==end:\n",
    "                return mid\n",
    "            if nums[mid] > nums[mid + 1] and nums[mid] > nums[mid - 1]:\n",
    "                return mid\n",
    "            if nums[mid] < nums[mid - 1]:\n",
    "                end = mid - 1\n",
    "            else:\n",
    "                start = mid + 1      \n",
    "a=Solution()\n",
    "a.findPeakElement([0,6,1,4,8,9,10])"
   ]
  },
  {
   "cell_type": "markdown",
   "metadata": {},
   "source": [
    "#### 4.13 First and last occurence of an element"
   ]
  },
  {
   "cell_type": "code",
   "execution_count": 132,
   "metadata": {},
   "outputs": [
    {
     "data": {
      "text/plain": [
       "[6, 7]"
      ]
     },
     "execution_count": 132,
     "metadata": {},
     "output_type": "execute_result"
    }
   ],
   "source": [
    "def searchrange(arr,target):\n",
    "    l=0\n",
    "    r=len(arr)-1\n",
    "    a=[-1,-1]\n",
    "    while l<=r:     # For first occurence\n",
    "        mid=(l+r)//2\n",
    "        if target==arr[mid]:\n",
    "           a[0]=mid\n",
    "           r=mid-1\n",
    "        if target>arr[mid]:\n",
    "            l=mid+1\n",
    "        if target<arr[mid]: \n",
    "            r=mid-1\n",
    "\n",
    "    l=0\n",
    "    r=len(arr)-1\n",
    "    while l<=r:     # For last occurence\n",
    "        mid=(l+r)//2\n",
    "        if target==arr[mid]:\n",
    "           a[1]=mid\n",
    "           l=mid+1\n",
    "        if target>arr[mid]:\n",
    "            l=mid+1\n",
    "        if target<arr[mid]: \n",
    "            r=mid-1\n",
    "    return a \n",
    "\n",
    "searchrange([1,4,7,7,7,7,8,8,10,10],8)"
   ]
  },
  {
   "cell_type": "markdown",
   "metadata": {},
   "source": [
    "#### 4.14 Search in rotated sorted list"
   ]
  },
  {
   "cell_type": "code",
   "execution_count": 138,
   "metadata": {},
   "outputs": [
    {
     "data": {
      "text/plain": [
       "1"
      ]
     },
     "execution_count": 138,
     "metadata": {},
     "output_type": "execute_result"
    }
   ],
   "source": [
    "def search(arr, target):\n",
    "    l=0\n",
    "    r=len(arr)-1\n",
    "    while l<=r:\n",
    "        mid=(l+r)//2\n",
    "        if target==arr[mid]:\n",
    "            return mid\n",
    "        if arr[mid]>=arr[l]:\n",
    "            if target>=arr[l] and target<arr[mid]:\n",
    "                r=mid-1\n",
    "            else:\n",
    "                l=mid+1\n",
    "        else:\n",
    "            if target>arr[mid] and target<arr[r]:\n",
    "                l=mid+1\n",
    "            else:\n",
    "                r=mid-1\n",
    "    return -1      \n",
    "search([17,18,19,0,1,2,3,4,5,6,7],18)"
   ]
  },
  {
   "cell_type": "markdown",
   "metadata": {},
   "source": [
    "#### 4.15 Sets-twosum"
   ]
  },
  {
   "cell_type": "code",
   "execution_count": 3,
   "metadata": {},
   "outputs": [
    {
     "data": {
      "text/plain": [
       "[0, 1]"
      ]
     },
     "execution_count": 3,
     "metadata": {},
     "output_type": "execute_result"
    }
   ],
   "source": [
    "def twoSum(nums,target):\n",
    "    a={}\n",
    "    for i in range(len(nums)):\n",
    "        b=target-nums[i]\n",
    "        if b in a:\n",
    "            return [a[b],i]\n",
    "        else:\n",
    "            a[nums[i]]=i\n",
    "    return -1\n",
    "   \n",
    "twoSum([2,7,11,15],9)"
   ]
  },
  {
   "cell_type": "markdown",
   "metadata": {},
   "source": [
    "#### 4.16 Dictionary-Find lucky integer"
   ]
  },
  {
   "cell_type": "code",
   "execution_count": 39,
   "metadata": {},
   "outputs": [
    {
     "data": {
      "text/plain": [
       "4"
      ]
     },
     "execution_count": 39,
     "metadata": {},
     "output_type": "execute_result"
    }
   ],
   "source": [
    "def findLucky(arr):\n",
    "    dict={}     \n",
    "    for i in range(len(arr)):\n",
    "        if arr[i] in dict:            \n",
    "            dict[arr[i]]+=1\n",
    "        else:\n",
    "            dict[arr[i]] = 1\n",
    "    max=-1\n",
    "    for i,j in dict.items():    #i,j => key,value\n",
    "        if i==j and i>max:\n",
    "            max=i\n",
    "    return max\n",
    "findLucky([2,2,2,2,3,3,4,4,4,4])"
   ]
  },
  {
   "cell_type": "markdown",
   "metadata": {},
   "source": [
    "#### 4.17 Sorting of objects"
   ]
  },
  {
   "cell_type": "code",
   "execution_count": 5,
   "metadata": {},
   "outputs": [
    {
     "name": "stdout",
     "output_type": "stream",
     "text": [
      "c 1\n",
      "a 5\n",
      "b 6\n"
     ]
    }
   ],
   "source": [
    "class Employee:\n",
    "    def __init__(self,name,salary):\n",
    "        self.name=name\n",
    "        self.salary =salary\n",
    "\n",
    "def sort_array(arr, length):\n",
    "    for i in range(length):\n",
    "        for j in range(0, length - i - 1):\n",
    "            if arr[j].salary > arr[j + 1].salary:\n",
    "                arr[j], arr[j + 1] = arr[j + 1], arr[j]\n",
    "    return arr\n",
    "\n",
    "def main():\n",
    "    n=int(input())\n",
    "    arr=[]\n",
    "    for i in range(0,n):\n",
    "        name=input()\n",
    "        salary=int(input())\n",
    "        arr.append(Employee(name,salary))\n",
    "    output = sort_array(arr,n)\n",
    "    for i in range(0,n):\n",
    "        print(output[i].name+\" \"+str(output[i].salary))\n",
    "    \n",
    "main()    "
   ]
  },
  {
   "cell_type": "markdown",
   "metadata": {},
   "source": [
    "#### 4.18 Count primes"
   ]
  },
  {
   "cell_type": "code",
   "execution_count": 36,
   "metadata": {},
   "outputs": [
    {
     "data": {
      "text/plain": [
       "4"
      ]
     },
     "execution_count": 36,
     "metadata": {},
     "output_type": "execute_result"
    }
   ],
   "source": [
    "def countPrimes(n):\n",
    "    if n<=1:\n",
    "        return 0    \n",
    "    nums= [True for i in range(n)]\n",
    "    nums[0:2]= False, False\n",
    "    for i in range(2,int(n**0.5)+1):\n",
    "        if nums[i]:\n",
    "            for j in range(i*i,n,i):\n",
    "                nums[j]=False\n",
    "    count=0\n",
    "    for i in nums:\n",
    "        if i==True:\n",
    "            count+=1\n",
    "    return count\n",
    "countPrimes(10)"
   ]
  },
  {
   "cell_type": "markdown",
   "metadata": {},
   "source": [
    "#### 4.19 Jewels and stones"
   ]
  },
  {
   "cell_type": "code",
   "execution_count": 45,
   "metadata": {},
   "outputs": [
    {
     "data": {
      "text/plain": [
       "7"
      ]
     },
     "execution_count": 45,
     "metadata": {},
     "output_type": "execute_result"
    }
   ],
   "source": [
    "def numJewelsInStones(jewels, stones):\n",
    "    jewels=set(jewels)\n",
    "    count=0\n",
    "    for i in stones:\n",
    "        if i in jewels:\n",
    "            count+=1\n",
    "    return count\n",
    "\n",
    "numJewelsInStones(\"aAn\",\"cdafnAhynaAiuwn\")"
   ]
  },
  {
   "cell_type": "markdown",
   "metadata": {},
   "source": [
    "#### 4.20 Zero sum subarray"
   ]
  },
  {
   "cell_type": "code",
   "execution_count": 24,
   "metadata": {},
   "outputs": [
    {
     "data": {
      "text/plain": [
       "True"
      ]
     },
     "execution_count": 24,
     "metadata": {},
     "output_type": "execute_result"
    }
   ],
   "source": [
    "def is_twin(arr):\n",
    "    a={0}\n",
    "    sum=0\n",
    "    for i in range(len(arr)):\n",
    "        sum+=arr[i]\n",
    "        if sum in a:\n",
    "            return True\n",
    "        a.add(sum)\n",
    "    return False\n",
    "\n",
    "is_twin([5,4,2,-3,1,6])"
   ]
  },
  {
   "cell_type": "markdown",
   "metadata": {},
   "source": [
    "#### 4.21 Number of swaps"
   ]
  },
  {
   "cell_type": "code",
   "execution_count": 51,
   "metadata": {},
   "outputs": [
    {
     "name": "stdout",
     "output_type": "stream",
     "text": [
      "0\n",
      "8\n",
      "5\n"
     ]
    }
   ],
   "source": [
    "def min_swaps(arr):\n",
    "    sorted_arr=arr.copy()\n",
    "    for i in range(len(sorted_arr)):\n",
    "        for j in range(0,len(sorted_arr)-i-1):\n",
    "            if sorted_arr[j]> sorted_arr[j + 1]:\n",
    "                sorted_arr[j], sorted_arr[j + 1] = sorted_arr[j + 1], sorted_arr[j]\n",
    "    \n",
    "    # Create a hashmap that maps each number to its index in the sorted list\n",
    "    map_to_index = {}\n",
    "    for i in range(len(arr)):\n",
    "        map_to_index[arr[i]] = i\n",
    "    \n",
    "    count = 0\n",
    "    for i in range(len(arr)):\n",
    "        if arr[i] != sorted_arr[i]:\n",
    "            correct = map_to_index[sorted_arr[i]]\n",
    "        \n",
    "            # Swap it with the number that should be in its position\n",
    "            arr[i], arr[correct] = arr[correct], arr[i]\n",
    "            \n",
    "            # Update the hashmap for both numbers\n",
    "            map_to_index[arr[i]] = i\n",
    "            map_to_index[arr[correct]] = correct\n",
    "            \n",
    "            count += 1\n",
    "    \n",
    "    return count\n",
    "\n",
    "print(min_swaps([1,4,5,7,11,12,19]))  \n",
    "print(min_swaps([9,10,8,15,12,1,2,3,4,5])) \n",
    "print(min_swaps([10, 9,8,7,6,5,4,3,2,1]))  "
   ]
  },
  {
   "cell_type": "markdown",
   "metadata": {},
   "source": [
    "#### 4.22 Find missing AP element"
   ]
  },
  {
   "cell_type": "code",
   "execution_count": 5,
   "metadata": {},
   "outputs": [
    {
     "name": "stdout",
     "output_type": "stream",
     "text": [
      "12\n"
     ]
    }
   ],
   "source": [
    "arr = [2,4,6,8,10,14,16,18]\n",
    "########################### method-1 ###########################\n",
    "# sum = 0\n",
    "# for i in arr:\n",
    "#     sum += i\n",
    "# ap_sum = 0\n",
    "# for i in range(arr[0],arr[-1]+1,d):\n",
    "#     ap_sum += i\n",
    "# return ap_sum-sum\n",
    "\n",
    "########################### method-2 ###########################\n",
    "# for i in range(n-1):\n",
    "#     if arr[i+1] - arr[i] != d:\n",
    "#         return arr[i] + d\n",
    "\n",
    "########################### method-3 ############################  \n",
    "left = 0\n",
    "right = len(arr) - 1\n",
    "d = (arr[-1] - arr[0])//len(arr)                        # find the AP difference\n",
    "\n",
    "while right > left + 1:                                 #  to ensure that the search continues as long as there are at least two elements left to check\n",
    "    mid = left + (right - left)//2\n",
    "\n",
    "    if (arr[mid] - arr[left]) != (mid - left) * d:      # check if the missing element is on the left side\n",
    "        right = mid\n",
    "    else:\n",
    "        left = mid                                      # missing element on the right side\n",
    "\n",
    "print((arr[left] + arr[right])//2)"
   ]
  },
  {
   "cell_type": "markdown",
   "metadata": {},
   "source": [
    "## 5. Stacks and Queues"
   ]
  },
  {
   "cell_type": "markdown",
   "metadata": {},
   "source": [
    "#### 5.1 Stack class"
   ]
  },
  {
   "cell_type": "code",
   "execution_count": 9,
   "metadata": {},
   "outputs": [
    {
     "name": "stdout",
     "output_type": "stream",
     "text": [
      "True\n",
      "[3, 2, 5, 7]\n",
      "[3, 2, 5]\n",
      "5\n",
      "False\n"
     ]
    }
   ],
   "source": [
    "class Stack:\n",
    "    def __init__(self):\n",
    "        self.top = -1\n",
    "        self.stack = [] # or deque\n",
    "    def push(self,element):\n",
    "        self.top += 1\n",
    "        self.stack.append(element)\n",
    "    def pop(self):\n",
    "        self.stack.pop()\n",
    "        self.top -= 1\n",
    "    def peek(self):\n",
    "        return self.stack[self.top]\n",
    "    def isEmpty(self):\n",
    "        if self.top == -1:\n",
    "            return True\n",
    "        else:\n",
    "            return False\n",
    "\n",
    "s = Stack()\n",
    "print(s.isEmpty())\n",
    "s.push(3)\n",
    "s.push(2)\n",
    "s.push(5)\n",
    "s.push(7)\n",
    "print(s.stack)\n",
    "s.pop()\n",
    "print(s.stack)\n",
    "print(s.peek())\n",
    "print(s.isEmpty())"
   ]
  },
  {
   "cell_type": "markdown",
   "metadata": {},
   "source": [
    "#### 5.2 Min stack"
   ]
  },
  {
   "cell_type": "code",
   "execution_count": 15,
   "metadata": {},
   "outputs": [
    {
     "name": "stdout",
     "output_type": "stream",
     "text": [
      "deque([2, 1, 6])\n",
      "6\n",
      "1\n"
     ]
    }
   ],
   "source": [
    "from collections import deque\n",
    "class minstack:\n",
    "    def __init__(self):\n",
    "        self.stack = deque()\n",
    "        self.min = deque()\n",
    "    def push(self,elem):\n",
    "        self.stack.append(elem)\n",
    "        if self.min:\n",
    "            elem = elem if elem < self.min[-1] else self.min[-1]\n",
    "        self.min.append(elem)\n",
    "    def pop(self):\n",
    "        self.stack.pop()\n",
    "        self.min.pop()\n",
    "    def top(self):\n",
    "        return self.stack[-1]\n",
    "    def getmin(self):\n",
    "        return self.min[-1]\n",
    "\n",
    "obj = minstack()\n",
    "obj.push(2)\n",
    "obj.push(1)\n",
    "obj.push(6)\n",
    "print(obj.stack)\n",
    "print(obj.top())\n",
    "print(obj.getmin())"
   ]
  },
  {
   "cell_type": "markdown",
   "metadata": {},
   "source": [
    "#### 5.3 Valid parentheses"
   ]
  },
  {
   "cell_type": "code",
   "execution_count": 13,
   "metadata": {},
   "outputs": [
    {
     "data": {
      "text/plain": [
       "True"
      ]
     },
     "execution_count": 13,
     "metadata": {},
     "output_type": "execute_result"
    }
   ],
   "source": [
    "def isValid(s: str):\n",
    "\tstack = []\n",
    "\tbrackets = {'(':')','{':'}','[':']'}\n",
    "\tfor ch in s:\n",
    "\t\tif ch in brackets:\n",
    "\t\t\tstack.append(ch)\n",
    "\t\telse:\n",
    "\t\t\tif not stack or brackets[stack.pop()] != ch:\n",
    "\t\t\t\treturn False\n",
    "\treturn not stack\n",
    "\t\n",
    "s = \"()[]{()}\"\n",
    "isValid(s)"
   ]
  },
  {
   "cell_type": "markdown",
   "metadata": {},
   "source": [
    "#### 5.4 Validate stack sequence"
   ]
  },
  {
   "cell_type": "code",
   "execution_count": 29,
   "metadata": {},
   "outputs": [
    {
     "data": {
      "text/plain": [
       "False"
      ]
     },
     "execution_count": 29,
     "metadata": {},
     "output_type": "execute_result"
    }
   ],
   "source": [
    "def validateStackSequences(pushed: list[int], popped: list[int]):\n",
    "    stack = []\n",
    "    for i in pushed:\n",
    "        stack.append(i)\n",
    "        while stack and stack[-1] == popped[0]:\n",
    "            stack.pop()\n",
    "            popped.pop(0)   \n",
    "    return True if not stack else False\n",
    "\n",
    "pushed = [1,2,3,4,5]\n",
    "popped = [4,3,5,1,2]\n",
    "validateStackSequences(pushed,popped)"
   ]
  },
  {
   "cell_type": "markdown",
   "metadata": {},
   "source": [
    "#### 5.5 Remove adjacent duplicates"
   ]
  },
  {
   "cell_type": "code",
   "execution_count": 40,
   "metadata": {},
   "outputs": [
    {
     "data": {
      "text/plain": [
       "'aby'"
      ]
     },
     "execution_count": 40,
     "metadata": {},
     "output_type": "execute_result"
    }
   ],
   "source": [
    "def removeDuplicates(s: str):\n",
    "    stack = []\n",
    "    for ch in s:\n",
    "        if ch not in stack:\n",
    "            stack.append(ch)\n",
    "        else:\n",
    "            stack.pop()\n",
    "    return (\"\".join(stack))\n",
    "\n",
    "    # for ch in s:\n",
    "\t#     if stack and stack[-1]==ch:\n",
    "\t#         stack.pop()\n",
    "\t#     else:\n",
    "\t#         stack.append(ch)\n",
    "    # return (\"\".join(stack))\n",
    "\n",
    "s = \"azxxzby\" \n",
    "removeDuplicates(s)"
   ]
  },
  {
   "cell_type": "markdown",
   "metadata": {},
   "source": [
    "#### 5.6 Decode string"
   ]
  },
  {
   "cell_type": "code",
   "execution_count": 6,
   "metadata": {},
   "outputs": [
    {
     "data": {
      "text/plain": [
       "'accaccacc'"
      ]
     },
     "execution_count": 6,
     "metadata": {},
     "output_type": "execute_result"
    }
   ],
   "source": [
    "def decodeString(s):\n",
    "    stack = []\n",
    "    number = ''\n",
    "    string = ''\n",
    "    for ch in s:\n",
    "        if ord(ch) in range(48,58):\n",
    "            number += ch\n",
    "        if ord(ch) in range(97,123):\n",
    "            string += ch \n",
    "        if ch == '[':\n",
    "            stack.append(int(number))\n",
    "            stack.append(string)            \n",
    "            string = ''\n",
    "            number = ''\n",
    "        if ch == ']':\n",
    "            temp_str = stack.pop()\n",
    "            temp_num = stack.pop()\n",
    "            string = temp_str + temp_num*string\n",
    "    return string\n",
    "s = \"3[a2[c]]\"\n",
    "decodeString(s)"
   ]
  },
  {
   "cell_type": "markdown",
   "metadata": {},
   "source": [
    "#### 5.7 Next greater elements"
   ]
  },
  {
   "cell_type": "code",
   "execution_count": 3,
   "metadata": {},
   "outputs": [
    {
     "data": {
      "text/plain": [
       "[2, 3, 4, -1, 4]"
      ]
     },
     "execution_count": 3,
     "metadata": {},
     "output_type": "execute_result"
    }
   ],
   "source": [
    "def nextGreaterElements(nums):\n",
    "    stack = []\n",
    "    greater = {}\n",
    "    n = len(nums)\n",
    "    for i in range(n*2): # Loop twice for circular array\n",
    "        num = nums[i % n]\n",
    "        while stack and stack[-1] < num:\n",
    "            greater[stack.pop()] = num\n",
    "        if i < n:\n",
    "            stack.append(num)\n",
    "    \n",
    "    next_greater = []\n",
    "    for elem in nums:\n",
    "        if elem in greater:\n",
    "            next_greater.append(greater[elem])\n",
    "        else:\n",
    "            next_greater.append(-1)\n",
    "    return next_greater\n",
    "\n",
    "nums = [1,2,3,4,3]\n",
    "nextGreaterElements(nums)"
   ]
  },
  {
   "cell_type": "markdown",
   "metadata": {},
   "source": [
    "#### 5.8 Trapping rain water"
   ]
  },
  {
   "cell_type": "code",
   "execution_count": 1,
   "metadata": {},
   "outputs": [
    {
     "data": {
      "text/plain": [
       "6"
      ]
     },
     "execution_count": 1,
     "metadata": {},
     "output_type": "execute_result"
    }
   ],
   "source": [
    "def trap(height):\n",
    "    l,r = 0,len(height)-1   # Left and right pointers\n",
    "    max_l,max_r = 0,0       # max heights on each side\n",
    "    water = 0\n",
    "    while l < r:\n",
    "        if height[l] < height[r]:\n",
    "            if height[l] >= max_l:\n",
    "                max_l = height[l]\n",
    "            else:\n",
    "                water += max_l - height[l]\n",
    "            l += 1\n",
    "        else:\n",
    "            if height[r] >= max_r:\n",
    "                max_r = height[r]\n",
    "            else:\n",
    "                water += max_r - height[r]\n",
    "            r -= 1 \n",
    "    return water\n",
    "# Using stack\n",
    "    # stack = []\n",
    "    # water = 0\n",
    "    # for i in range(len(height)):\n",
    "    #     while stack and height[i] > height[stack[-1]]:\n",
    "    #         top = stack.pop()\n",
    "    #         if not stack:\n",
    "    #             break\n",
    "    #         distance = i - stack[-1] - 1\n",
    "    #         # find the bounded height by comparing the current and the previous element\n",
    "    #         if height[i] < height[stack[-1]]:\n",
    "    #             bounded_height = height[i] - height[top]\n",
    "    #         else:\n",
    "    #             bounded_height = height[stack[-1]] - height[top]\n",
    "    #         water += distance * bounded_height\n",
    "    #     stack.append(i)\n",
    "    # return water\n",
    "\n",
    "height = [0,1,0,2,1,0,1,3,2,1,2,1]\n",
    "trap(height)"
   ]
  },
  {
   "cell_type": "markdown",
   "metadata": {},
   "source": [
    "#### 5.9 Stock span"
   ]
  },
  {
   "cell_type": "code",
   "execution_count": 14,
   "metadata": {},
   "outputs": [
    {
     "name": "stdout",
     "output_type": "stream",
     "text": [
      "1\n",
      "1\n",
      "1\n",
      "2\n",
      "1\n",
      "4\n",
      "6\n"
     ]
    }
   ],
   "source": [
    "class StockSpanner():\n",
    "    def __init__(self):\n",
    "        self.price_stack = []\n",
    "        self.span = []\n",
    "    def next(self,price):\n",
    "        count = 1\n",
    "        while self.price_stack and self.price_stack[-1] <= price:\n",
    "            self.price_stack.pop()\n",
    "            count += self.span.pop()\n",
    "        self.price_stack.append(price)\n",
    "        self.span.append(count)\n",
    "        return count\n",
    "obj = StockSpanner()\n",
    "print(obj.next(100))\n",
    "print(obj.next(80))\n",
    "print(obj.next(60))\n",
    "print(obj.next(70))\n",
    "print(obj.next(60))\n",
    "print(obj.next(75))\n",
    "print(obj.next(85))"
   ]
  },
  {
   "cell_type": "markdown",
   "metadata": {},
   "source": [
    "#### 5.10 Maximum area in a histogram"
   ]
  },
  {
   "cell_type": "code",
   "execution_count": 2,
   "metadata": {},
   "outputs": [
    {
     "name": "stdout",
     "output_type": "stream",
     "text": [
      "10\n"
     ]
    }
   ],
   "source": [
    "class Solution:\n",
    "    def largestRectangleArea(self,heights):\n",
    "        stack = []\n",
    "        max_area = 0\n",
    "        i = 0\n",
    "        \n",
    "        while i < len(heights):\n",
    "            if not stack or heights[i] >= heights[stack[-1]]:\n",
    "                stack.append(i)\n",
    "                i += 1\n",
    "            else:\n",
    "                height = heights[stack.pop()]\n",
    "                width = i if not stack else i - stack[-1] - 1\n",
    "                max_area = max(max_area, height * width)\n",
    "        \n",
    "        while stack:\n",
    "            height = heights[stack.pop()]\n",
    "            width = i if not stack else i - stack[-1] - 1\n",
    "            max_area = max(max_area, height * width)\n",
    "        \n",
    "        return max_area\n",
    "\n",
    "# Test with given input\n",
    "heights = [2, 1, 5, 6, 2, 3]\n",
    "s = Solution()\n",
    "print(s.largestRectangleArea(heights))"
   ]
  },
  {
   "cell_type": "markdown",
   "metadata": {},
   "source": [
    "#### 5.11 Queue "
   ]
  },
  {
   "cell_type": "code",
   "execution_count": 15,
   "metadata": {},
   "outputs": [
    {
     "name": "stdout",
     "output_type": "stream",
     "text": [
      "False\n",
      "True\n",
      "[1, 2, 3, 4, 0]\n",
      "4\n",
      "5\n",
      "True\n",
      "1\n",
      "[1, 2, 3, 4, 5]\n",
      "2\n",
      "5\n"
     ]
    }
   ],
   "source": [
    "class queue:\n",
    "    def __init__(self,max_size):\n",
    "        self.front = 0\n",
    "        self.rear = -1\n",
    "        self.elem_count = 0\n",
    "        self.q = [0] * max_size\n",
    "        self.max_size = max_size\n",
    "\n",
    "    def isfull(self):\n",
    "        return self.elem_count == self.max_size\n",
    "    \n",
    "    def isempty(self):\n",
    "        return self.elem_count == 0\n",
    "    \n",
    "    def q_front(self):\n",
    "        return self.q[self.front]\n",
    "    \n",
    "    def q_rear(self):\n",
    "        return self.q[self.rear]\n",
    "    \n",
    "    def enqueue(self,elem):\n",
    "        if not self.isfull():\n",
    "            if self.rear == self.max_size - 1:\n",
    "                self.rear = -1\n",
    "            self.rear += 1\n",
    "            self.q[self.rear] = elem\n",
    "            self.elem_count += 1\n",
    "\n",
    "    def dequeue(self):\n",
    "        elem = self.q[self.front]\n",
    "        if self.front == self.max_size:\n",
    "            self.front = 0\n",
    "        else:\n",
    "            self.front += 1\n",
    "        self.elem_count -= 1\n",
    "        return elem\n",
    "    \n",
    "obj = queue(5)\n",
    "print(obj.isfull())\n",
    "print(obj.isempty())\n",
    "obj.enqueue(1)\n",
    "obj.enqueue(2)\n",
    "obj.enqueue(3)\n",
    "obj.enqueue(4)\n",
    "print(obj.q)\n",
    "print(obj.elem_count)\n",
    "obj.enqueue(5)\n",
    "print(obj.elem_count)\n",
    "print(obj.isfull())\n",
    "print(obj.dequeue())\n",
    "print(obj.q)\n",
    "print(obj.q_front())\n",
    "print(obj.q_rear())"
   ]
  },
  {
   "cell_type": "markdown",
   "metadata": {},
   "source": [
    "#### 5.12 Queue-2"
   ]
  },
  {
   "cell_type": "code",
   "execution_count": 39,
   "metadata": {},
   "outputs": [
    {
     "name": "stdout",
     "output_type": "stream",
     "text": [
      "True\n",
      "[1, 2] 1 2\n",
      "False\n",
      "[1, 2, 3] 2 3\n",
      "False\n",
      "False\n",
      "[1, 2, 3] 3 3\n",
      "[1, 2, 3] -1 -1\n",
      "True\n"
     ]
    }
   ],
   "source": [
    "class queue:\n",
    "    def __init__(self):\n",
    "        self.front = -1\n",
    "        self.rear = -1\n",
    "        self.q = []\n",
    "    \n",
    "    def isempty(self):\n",
    "        return self.rear == self.front == -1\n",
    "    \n",
    "    def q_front(self):\n",
    "        if self.front == self.rear == -1:\n",
    "            return -1\n",
    "        return self.q[self.front]\n",
    "    \n",
    "    def q_rear(self):\n",
    "        if self.front == self.rear == -1:\n",
    "            return -1\n",
    "        return self.q[self.rear]\n",
    "    \n",
    "    def enqueue(self,elem):\n",
    "        if self.front == -1:\n",
    "            self.front += 1\n",
    "            self.rear += 1\n",
    "        else:\n",
    "            self.rear += 1\n",
    "        self.q.append(elem)\n",
    "\n",
    "    def dequeue(self):\n",
    "        if self.front == self.rear:\n",
    "            self.front = -1\n",
    "            self.rear = -1\n",
    "        else:\n",
    "            self.front += 1\n",
    "\n",
    "obj = queue()\n",
    "print(obj.isempty())\n",
    "obj.enqueue(1)\n",
    "obj.enqueue(2)\n",
    "print(obj.q,obj.q_front(),obj.q_rear())\n",
    "obj.enqueue(3)\n",
    "print(obj.isempty())\n",
    "obj.dequeue()\n",
    "print(obj.q,obj.q_front(),obj.q_rear())\n",
    "print(obj.isempty())\n",
    "obj.dequeue()\n",
    "print(obj.isempty())\n",
    "print(obj.q,obj.q_front(),obj.q_rear())\n",
    "obj.dequeue()\n",
    "print(obj.q,obj.q_front(),obj.q_rear())\n",
    "print(obj.isempty())"
   ]
  },
  {
   "cell_type": "markdown",
   "metadata": {},
   "source": [
    "#### 5.13 Circular queue"
   ]
  },
  {
   "cell_type": "code",
   "execution_count": 52,
   "metadata": {},
   "outputs": [
    {
     "name": "stdout",
     "output_type": "stream",
     "text": [
      "True\n",
      "False\n",
      "[1, 2, 0, 0] 1 2 2\n",
      "[1, 2, 3, 4] 1 4 4\n",
      "[1, 2, 3, 4] 2 4 3\n",
      "[5, 2, 3, 4] 2 5 4\n"
     ]
    }
   ],
   "source": [
    "class circularqueue:\n",
    "\n",
    "    def __init__(self, max):\n",
    "        self.q = [0] * max\n",
    "        self.front = self.rear =  -1\n",
    "        self.max = max\n",
    "        self.elem_count = 0\n",
    "\n",
    "    def isempty(self):\n",
    "        return self.front == self.rear == -1\n",
    "\n",
    "    def isfull(self):\n",
    "        return self.elem_count == self.max\n",
    "    \n",
    "    def enqueue(self, elem):\n",
    "        if self.isfull():\n",
    "            return False\n",
    "        if self.front == -1:\n",
    "            self.front += 1\n",
    "            self.rear += 1\n",
    "        else:\n",
    "            self.rear = (self.rear + 1) % self.max\n",
    "        self.q[self.rear] = elem\n",
    "        self.elem_count += 1\n",
    "        return True\n",
    "\n",
    "    def dequeue(self):\n",
    "        if self.isempty():\n",
    "            return False\n",
    "        self.front = (self.front + 1) % self.max\n",
    "        self.elem_count -= 1\n",
    "        return True\n",
    "\n",
    "    def q_front(self):\n",
    "        if self.isempty():\n",
    "            return -1\n",
    "        return self.q[self.front]\n",
    "\n",
    "    def q_rear(self):\n",
    "        if self.isempty():\n",
    "            return -1\n",
    "        return self.q[self.rear]\n",
    "\n",
    "obj = circularqueue(4)\n",
    "print(obj.isempty())\n",
    "print(obj.isfull())\n",
    "obj.enqueue(1)\n",
    "obj.enqueue(2)\n",
    "print(obj.q,obj.q_front(),obj.q_rear(),obj.elem_count)\n",
    "obj.enqueue(3)\n",
    "obj.enqueue(4)\n",
    "print(obj.q,obj.q_front(),obj.q_rear(),obj.elem_count)\n",
    "obj.dequeue()\n",
    "print(obj.q,obj.q_front(),obj.q_rear(),obj.elem_count)\n",
    "obj.enqueue(5)\n",
    "print(obj.q,obj.q_front(),obj.q_rear(),obj.elem_count)"
   ]
  },
  {
   "cell_type": "markdown",
   "metadata": {},
   "source": [
    "#### 5.14 Queue using stacks"
   ]
  },
  {
   "cell_type": "code",
   "execution_count": 7,
   "metadata": {},
   "outputs": [
    {
     "data": {
      "text/plain": [
       "2"
      ]
     },
     "execution_count": 7,
     "metadata": {},
     "output_type": "execute_result"
    }
   ],
   "source": [
    "class MyQueue:\n",
    "\n",
    "    def __init__(self):\n",
    "        self.front = []\n",
    "        self.rear = []\n",
    "\n",
    "    def push(self, x: int) -> None:\n",
    "        self.rear.append(x)\n",
    "\n",
    "    def pop(self) -> int:\n",
    "        self.peek()\n",
    "        return self.front.pop()\n",
    "\n",
    "    def peek(self) -> int:\n",
    "        if not self.front:\n",
    "            while self.rear:\n",
    "                self.front.append(self.rear.pop())\n",
    "        return self.front[-1]\n",
    "\n",
    "    def empty(self) -> bool:\n",
    "        return not self.rear and not self.front\n",
    "\n",
    "obj = MyQueue()\n",
    "obj.push(1)\n",
    "obj.push(2)\n",
    "obj.push(3)\n",
    "obj.peek()\n",
    "obj.pop()\n",
    "obj.peek()"
   ]
  },
  {
   "cell_type": "markdown",
   "metadata": {},
   "source": [
    "#### 5.15 Stack using queues"
   ]
  },
  {
   "cell_type": "code",
   "execution_count": 2,
   "metadata": {},
   "outputs": [
    {
     "name": "stdout",
     "output_type": "stream",
     "text": [
      "3\n",
      "False\n",
      "2\n",
      "2\n",
      "1\n",
      "True\n"
     ]
    }
   ],
   "source": [
    "class MyStack:\n",
    "\n",
    "    def __init__(self):\n",
    "        self.q1 = []\n",
    "        self.q2 = []\n",
    "\n",
    "    def push(self, x):\n",
    "        self.q1.append(x)\n",
    "        while self.q2:\n",
    "            self.q1.append(self.q2.pop(0))\n",
    "        self.q1, self.q2 = self.q2, self.q1\n",
    "\n",
    "    def pop(self):\n",
    "        return self.q2.pop(0)\n",
    "    \n",
    "    def top(self):\n",
    "        return self.q2[0]\n",
    "    \n",
    "    def empty(self):\n",
    "        return not self.q2\n",
    "    \n",
    "obj = MyStack()\n",
    "obj.push(1)\n",
    "obj.push(2)\n",
    "obj.push(3)\n",
    "print(obj.pop())\n",
    "print(obj.empty())\n",
    "print(obj.top())\n",
    "print(obj.pop())\n",
    "print(obj.pop())\n",
    "print(obj.empty())"
   ]
  },
  {
   "cell_type": "markdown",
   "metadata": {},
   "source": [
    "#### 5.16 Non repeating characters"
   ]
  },
  {
   "cell_type": "code",
   "execution_count": 16,
   "metadata": {},
   "outputs": [
    {
     "data": {
      "text/plain": [
       "2"
      ]
     },
     "execution_count": 16,
     "metadata": {},
     "output_type": "execute_result"
    }
   ],
   "source": [
    "class Solution:\n",
    "    def firstUniqChar(self, s: str) -> int:\n",
    "        q = []\n",
    "        indices = {}\n",
    "\n",
    "        for i in range(len(s)):\n",
    "            if s[i] not in indices:\n",
    "                indices[s[i]] = i\n",
    "                q.append(s[i])\n",
    "            else:\n",
    "                indices[s[i]] = -1\n",
    "\n",
    "        while q:\n",
    "            key = q.pop(0)\n",
    "            if indices[key] != -1:\n",
    "                return indices[key]\n",
    "        return -1\n",
    "\n",
    "obj = Solution()\n",
    "obj.firstUniqChar('loveleeo')        "
   ]
  },
  {
   "cell_type": "markdown",
   "metadata": {},
   "source": [
    "#### 5.17 Non repeating characters-2"
   ]
  },
  {
   "cell_type": "code",
   "execution_count": 13,
   "metadata": {},
   "outputs": [
    {
     "data": {
      "text/plain": [
       "'aabbdd'"
      ]
     },
     "execution_count": 13,
     "metadata": {},
     "output_type": "execute_result"
    }
   ],
   "source": [
    "def find_first_non_repeating(stream):\n",
    "    B = \"\"\n",
    "    freq = {}  \n",
    "    queue = [] \n",
    "\n",
    "    for i in stream:\n",
    "        queue.append(i)\n",
    "        if i in freq:  \n",
    "            freq[i] = -1\n",
    "        else: \n",
    "            freq[i] = 1\n",
    "\n",
    "        while queue:\n",
    "            if freq[queue[0]] == -1:  # If repeating, remove from queue\n",
    "                queue.pop(0)\n",
    "            else:\n",
    "                B += queue[0]  # Append first non-repeating character\n",
    "                break\n",
    "\n",
    "        if not queue:  # If no non-repeating character found\n",
    "            B += '#'\n",
    "\n",
    "    return B\n",
    "\n",
    "\n",
    "find_first_non_repeating('abadbc') "
   ]
  },
  {
   "cell_type": "markdown",
   "metadata": {},
   "source": [
    "#### 5.18 Sliding window maximum"
   ]
  },
  {
   "cell_type": "code",
   "execution_count": 36,
   "metadata": {},
   "outputs": [
    {
     "data": {
      "text/plain": [
       "[3, 3, 5, 5, 6, 7]"
      ]
     },
     "execution_count": 36,
     "metadata": {},
     "output_type": "execute_result"
    }
   ],
   "source": [
    "def maxSlidingWindow(nums,k):\n",
    "    # Brute force \n",
    "    # res = []\n",
    "    # for i in range(len(nums)-k+1):\n",
    "    #     res.append(-100000)\n",
    "    #     for j in range(i,i+k):\n",
    "    #         if nums[j] >= res[-1]:\n",
    "    #             res.pop()\n",
    "    #             res.append(nums[j])\n",
    "    # return res\n",
    "    \n",
    "    # Deque based\n",
    "    from collections import deque\n",
    "    q = deque()\n",
    "    maximum = []\n",
    "\n",
    "    for i in range(len(nums)):\n",
    "        if q and q[0] == i - k:\n",
    "            q.popleft()\n",
    "        while q and nums[i] >= nums[q[-1]]:\n",
    "            q.pop()\n",
    "        q.append(i)\n",
    "        if i >= k - 1:\n",
    "            maximum.append(nums[q[0]])\n",
    "    return maximum\n",
    "\n",
    "nums = [1,3,-1,-3,5,3,6,7]\n",
    "k = 3\n",
    "maxSlidingWindow(nums,k)"
   ]
  },
  {
   "cell_type": "markdown",
   "metadata": {},
   "source": [
    "## 6. Linked list and recursion"
   ]
  },
  {
   "cell_type": "markdown",
   "metadata": {},
   "source": [
    "#### 6.1 Linked list operations"
   ]
  },
  {
   "cell_type": "code",
   "execution_count": 61,
   "metadata": {},
   "outputs": [
    {
     "name": "stdout",
     "output_type": "stream",
     "text": [
      "Empty\n",
      "Empty\n"
     ]
    }
   ],
   "source": [
    "# Node class\n",
    "class Node:     \n",
    "    def __init__(self,data):\n",
    "        self.data = data\n",
    "        self.next = None\n",
    "\n",
    "class linkedlist:\n",
    "\n",
    "    def __init__(self):\n",
    "        self.head = None\n",
    "\n",
    "    # Insert at the beginning\n",
    "    def insert_at_start(self,data):\n",
    "        new_node = Node(data)\n",
    "        if self.head == None:\n",
    "            self.head = new_node\n",
    "            return\n",
    "        new_node.next = self.head\n",
    "        self.head = new_node\n",
    "    \n",
    "    # Insert at the end\n",
    "    def insert_at_end(self,data):\n",
    "        new_node = Node(data)\n",
    "        if self.head == None:\n",
    "            self.head = new_node\n",
    "            return\n",
    "        temp = self.head\n",
    "        while temp.next:\n",
    "            temp = temp.next\n",
    "        temp.next = new_node\n",
    "\n",
    "    # Insert at a given index position\n",
    "    def insert_at_index(self,data,pos):\n",
    "        if pos == 0:\n",
    "            self.insert_at_start(data)\n",
    "        new_node = Node(data)\n",
    "        temp = self.head\n",
    "        # count = 0\n",
    "        # while temp:\n",
    "        #     if count == pos - 1:\n",
    "        #         new_node.next = temp.next\n",
    "        #         temp.next = new_node\n",
    "        #     temp = temp.next\n",
    "        #     count += 1\n",
    "\n",
    "        # while pos - 1 > 0:\n",
    "        #     temp = temp.next\n",
    "        # x = temp.next\n",
    "        # temp.next = new_node\n",
    "        # new_node.next = x\n",
    "            \n",
    "        while pos - 1 > 0:\n",
    "            temp = temp.next\n",
    "            pos -= 1\n",
    "        new_node.next = temp.next\n",
    "        temp.next = new_node\n",
    "    \n",
    "    # Delete the first node\n",
    "    def delete_first(self):\n",
    "        if self.head == None:\n",
    "            return\n",
    "        self.head = self.head.next\n",
    "\n",
    "    # Delete the last node\n",
    "    def delete_last(self):\n",
    "        if self.head == None:\n",
    "            return\n",
    "        temp = self.head\n",
    "        while temp.next.next:\n",
    "            temp = temp.next\n",
    "        temp.next = None\n",
    "\n",
    "    # Delete the node at a given position\n",
    "    def delete_at_index(self,pos):\n",
    "        if pos == 0:\n",
    "            self.delete_first()\n",
    "            return\n",
    "        temp = self.head\n",
    "        while pos - 1 > 0:\n",
    "            temp = temp.next\n",
    "            pos -= 1\n",
    "        temp.next = temp.next.next\n",
    "\n",
    "    # Delete the node of a given value\n",
    "    def delete_node_by_value(self,data):\n",
    "        temp = self.head\n",
    "        if temp.data == data:\n",
    "            self.delete_first()\n",
    "            return\n",
    "        while temp.next:\n",
    "            if temp.next.data == data:\n",
    "                temp.next = temp.next.next\n",
    "                return\n",
    "            temp = temp.next\n",
    "\n",
    "    # Delete nodes with given value\n",
    "    def removeElements(self,data):\n",
    "        while self.head and self.head.data is data:\n",
    "            self.head = self.head.next\n",
    "        # if self.head.data is data:\n",
    "        #     self.head = self.head.next\n",
    "        # If list is now empty\n",
    "        if self.head is None:\n",
    "            return None\n",
    "        current = self.head\n",
    "        while current.next:\n",
    "            if current.next.data is data:\n",
    "                current.next = current.next.next\n",
    "            else:\n",
    "                current = current.next\n",
    "    \n",
    "    # Display the linked list\n",
    "    def print(self):\n",
    "        if self.head == None:\n",
    "            print(\"Empty\")\n",
    "            return\n",
    "        temp = self.head\n",
    "        while temp:\n",
    "            print(temp.data)\n",
    "            temp = temp.next\n",
    "    \n",
    "obj = linkedlist()\n",
    "obj.print()\n",
    "# obj.insert_at_start(2)\n",
    "# obj.insert_at_start(1)\n",
    "obj.insert_at_start(6)\n",
    "obj.insert_at_end(6)\n",
    "obj.insert_at_end(6)\n",
    "obj.insert_at_end(6)\n",
    "obj.insert_at_end(6)\n",
    "obj.insert_at_start(6)\n",
    "obj.removeElements(6)\n",
    "obj.print()"
   ]
  },
  {
   "cell_type": "markdown",
   "metadata": {},
   "source": [
    "#### 6.2 Recursion"
   ]
  },
  {
   "cell_type": "code",
   "execution_count": 2,
   "metadata": {},
   "outputs": [
    {
     "name": "stdout",
     "output_type": "stream",
     "text": [
      "20\n"
     ]
    }
   ],
   "source": [
    "# sum = 0\n",
    "# n = 5\n",
    "# for i in range(0,10,2):\n",
    "#     if i == n:\n",
    "#         break\n",
    "#     sum += i\n",
    "# print(sum)\n",
    "def recursive_sum(n, i=0, step=2):\n",
    "    if i == n or i >= 10:\n",
    "        return 0\n",
    "    else:\n",
    "        return i + recursive_sum(n, i+step, step)\n",
    "print(recursive_sum(5))"
   ]
  },
  {
   "cell_type": "markdown",
   "metadata": {},
   "source": [
    "#### 6.3 Recursion examples"
   ]
  },
  {
   "cell_type": "code",
   "execution_count": 6,
   "metadata": {},
   "outputs": [
    {
     "name": "stdout",
     "output_type": "stream",
     "text": [
      "5\n",
      "4\n",
      "3\n",
      "2\n",
      "1\n"
     ]
    }
   ],
   "source": [
    "def count(i):\n",
    "    if i > 5:\n",
    "        return 0\n",
    "    else:\n",
    "        return count(i+1)\n",
    "\n",
    "def count_1(i):\n",
    "    if i > 5:\n",
    "        return 0\n",
    "    else:\n",
    "        return i * count_1(i+1)\n",
    "\n",
    "def count_2(i):\n",
    "    if(i==6):\n",
    "        return\n",
    "    else:\n",
    "        count_2(i+1)\n",
    "        print(i)\n",
    "count_2(1)"
   ]
  },
  {
   "cell_type": "markdown",
   "metadata": {},
   "source": [
    "#### 6.4 Multiples of 5(Recursion)"
   ]
  },
  {
   "cell_type": "code",
   "execution_count": 16,
   "metadata": {},
   "outputs": [
    {
     "name": "stdout",
     "output_type": "stream",
     "text": [
      "0\n",
      "5\n",
      "10\n",
      "15\n"
     ]
    }
   ],
   "source": [
    "def table_5(i):\n",
    "    if i >= 0:\n",
    "        table_5(i-1)\n",
    "        if i % 5 == 0:\n",
    "            print(i)\n",
    "table_5(18)"
   ]
  },
  {
   "cell_type": "markdown",
   "metadata": {},
   "source": [
    "#### 6.5 Sum of n numbers(Recursion)"
   ]
  },
  {
   "cell_type": "code",
   "execution_count": 19,
   "metadata": {},
   "outputs": [
    {
     "data": {
      "text/plain": [
       "15"
      ]
     },
     "execution_count": 19,
     "metadata": {},
     "output_type": "execute_result"
    }
   ],
   "source": [
    "def natural_numbers(n):\n",
    "    if n == 0:\n",
    "        return 0\n",
    "    if n >= 1:\n",
    "        return n + natural_numbers(n-1)\n",
    "natural_numbers(5)"
   ]
  },
  {
   "cell_type": "markdown",
   "metadata": {},
   "source": [
    "#### 6.6 Factorial(Recursion)"
   ]
  },
  {
   "cell_type": "code",
   "execution_count": 20,
   "metadata": {},
   "outputs": [
    {
     "data": {
      "text/plain": [
       "120"
      ]
     },
     "execution_count": 20,
     "metadata": {},
     "output_type": "execute_result"
    }
   ],
   "source": [
    "def factorial_numbers(n):\n",
    "    if n == 0:\n",
    "        return 1\n",
    "    if n >= 1:\n",
    "        return n * factorial_numbers(n-1)\n",
    "factorial_numbers(5)"
   ]
  },
  {
   "cell_type": "markdown",
   "metadata": {},
   "source": [
    "#### 6.7 Fibonacci number"
   ]
  },
  {
   "cell_type": "code",
   "execution_count": 21,
   "metadata": {},
   "outputs": [
    {
     "data": {
      "text/plain": [
       "5"
      ]
     },
     "execution_count": 21,
     "metadata": {},
     "output_type": "execute_result"
    }
   ],
   "source": [
    "def fibonacci(n):\n",
    "    if n == 0:\n",
    "        return 0\n",
    "    if n == 1:\n",
    "        return 1\n",
    "    return fibonacci(n-1) + fibonacci(n-2)\n",
    "fibonacci(5)"
   ]
  },
  {
   "cell_type": "markdown",
   "metadata": {},
   "source": [
    "#### 6.8 Permutation"
   ]
  },
  {
   "cell_type": "code",
   "execution_count": 18,
   "metadata": {},
   "outputs": [
    {
     "data": {
      "text/plain": [
       "['ABC', 'ACB', 'BAC', 'BCA', 'CBA', 'CAB']"
      ]
     },
     "execution_count": 18,
     "metadata": {},
     "output_type": "execute_result"
    }
   ],
   "source": [
    "def permutation(string, p = 0, res = []):\n",
    "    # if we've gotten to the end, print the permutation\n",
    "    if p == len(string):\n",
    "        res.append(\"\".join(string))\n",
    "\n",
    "    for i in range(p, len(string)):\n",
    "        arr = []\n",
    "        # copy the string (store as array)\n",
    "        for ch in string:\n",
    "            arr.append(ch)\n",
    "        # swap the current index with the step\n",
    "        arr[p], arr[i] = arr[i], arr[p]\n",
    "        # recurse on the portion of the string that has not been swapped yet (now it's index will begin with step + 1)\n",
    "        permutation(arr, p + 1)\n",
    "    return res\n",
    "permutation('ABC')    "
   ]
  },
  {
   "cell_type": "markdown",
   "metadata": {},
   "source": [
    "#### 6.9 Subsequence"
   ]
  },
  {
   "cell_type": "code",
   "execution_count": 34,
   "metadata": {},
   "outputs": [
    {
     "name": "stdout",
     "output_type": "stream",
     "text": [
      "[1]\n",
      "[1, 2]\n",
      "[1, 2, 3]\n",
      "[1, 3]\n",
      "[2]\n",
      "[2, 3]\n",
      "[3]\n"
     ]
    }
   ],
   "source": [
    "def subsequences(arr, res=[]):\n",
    "    # If the current subsequence is not empty, print it\n",
    "    if res:\n",
    "        print(res)\n",
    "\n",
    "    # Call the function recursively with and without the first element\n",
    "    for i in range(len(arr)):\n",
    "        subsequences(arr[i+1:], res + [arr[i]])\n",
    "subsequences([1,2,3])"
   ]
  },
  {
   "cell_type": "markdown",
   "metadata": {},
   "source": [
    "#### 6.10 Merge Sort"
   ]
  },
  {
   "cell_type": "code",
   "execution_count": 1,
   "metadata": {},
   "outputs": [
    {
     "data": {
      "text/plain": [
       "[1, 1, 5, 5, 6, 9, 10, 12]"
      ]
     },
     "execution_count": 1,
     "metadata": {},
     "output_type": "execute_result"
    }
   ],
   "source": [
    "def merge_sort(arr):\n",
    "    # Base case: if the list is of length 0 or 1, it is already sorted\n",
    "    if len(arr) <= 1:\n",
    "        return arr\n",
    "\n",
    "    # Divide the list into two halves\n",
    "    mid = len(arr) // 2\n",
    "    left = merge_sort(arr[:mid])  # Recursively sort the left half\n",
    "    right= merge_sort(arr[mid:])  # Recursively sort the right half\n",
    "\n",
    "    # Prepare to merge the two sorted halves\n",
    "    l = 0\n",
    "    r = 0\n",
    "    merged = []\n",
    "\n",
    "    # Continue until one of the halves is exhausted\n",
    "    while l < len(left) and r < len(right):\n",
    "        # If the current element of the left half is smaller, add it to the merged list\n",
    "        if left[l] <= right[r]:\n",
    "            merged.append(left[l])\n",
    "            l += 1\n",
    "        # Otherwise, add the current element of the right half to the merged list\n",
    "        else:\n",
    "            merged.append(right[r])\n",
    "            r += 1\n",
    "\n",
    "    # If there are remaining elements in the left half, add them to the merged list\n",
    "    merged += left[l:]\n",
    "    # If there are remaining elements in the right half, add them to the merged list\n",
    "    merged += right[r:]\n",
    "\n",
    "    # Return the merged list, which is now sorted\n",
    "    return merged\n",
    "\n",
    "merge_sort([6, 5, 12, 10, 9, 5, 1, 1])"
   ]
  },
  {
   "cell_type": "markdown",
   "metadata": {},
   "source": [
    "#### 6.11 Comparator"
   ]
  },
  {
   "cell_type": "code",
   "execution_count": 1,
   "metadata": {},
   "outputs": [
    {
     "name": "stdout",
     "output_type": "stream",
     "text": [
      "Sita\n",
      "Alex\n",
      "Vikram\n",
      "Lucy\n",
      "Mark\n"
     ]
    }
   ],
   "source": [
    "from functools import cmp_to_key\n",
    "class Employee:\n",
    "\tdef __init__(self, name, salary):\n",
    "\t\tself.name = name\n",
    "\t\tself.salary = salary\n",
    "\n",
    "\tdef comparator(emp1, emp2):\n",
    "\t\tif emp1.salary < emp2.salary:\n",
    "\t\t\treturn 1\n",
    "\t\tif emp1.salary > emp2.salary:\n",
    "\t\t\treturn -1\n",
    "\t\tif emp1.name < emp2.name:\n",
    "\t\t\treturn -1\n",
    "\t\tif emp1.name > emp2.name:\n",
    "\t\t\treturn 1\t\n",
    "\t\treturn 0\n",
    "\n",
    "employees = [ Employee('Mark', 100000), Employee('Lucy', 100000), Employee('Sita', 900000),\n",
    "Employee('Vikram', 300000), Employee('Alex', 700000)]\n",
    "\n",
    "employees.sort(key = cmp_to_key(Employee.comparator))\n",
    "for emp in employees:\n",
    "    print(emp.name)"
   ]
  },
  {
   "cell_type": "markdown",
   "metadata": {},
   "source": [
    "##"
   ]
  },
  {
   "cell_type": "code",
   "execution_count": null,
   "metadata": {},
   "outputs": [],
   "source": []
  },
  {
   "cell_type": "code",
   "execution_count": null,
   "metadata": {},
   "outputs": [],
   "source": []
  },
  {
   "cell_type": "code",
   "execution_count": null,
   "metadata": {},
   "outputs": [],
   "source": []
  },
  {
   "cell_type": "code",
   "execution_count": null,
   "metadata": {},
   "outputs": [],
   "source": []
  },
  {
   "cell_type": "code",
   "execution_count": null,
   "metadata": {},
   "outputs": [],
   "source": []
  },
  {
   "cell_type": "code",
   "execution_count": null,
   "metadata": {},
   "outputs": [],
   "source": []
  },
  {
   "cell_type": "code",
   "execution_count": null,
   "metadata": {},
   "outputs": [],
   "source": []
  },
  {
   "cell_type": "code",
   "execution_count": null,
   "metadata": {},
   "outputs": [],
   "source": []
  },
  {
   "cell_type": "code",
   "execution_count": null,
   "metadata": {},
   "outputs": [],
   "source": []
  },
  {
   "cell_type": "code",
   "execution_count": null,
   "metadata": {},
   "outputs": [],
   "source": []
  },
  {
   "cell_type": "code",
   "execution_count": null,
   "metadata": {},
   "outputs": [],
   "source": []
  },
  {
   "cell_type": "code",
   "execution_count": null,
   "metadata": {},
   "outputs": [],
   "source": []
  },
  {
   "cell_type": "code",
   "execution_count": null,
   "metadata": {},
   "outputs": [],
   "source": []
  },
  {
   "cell_type": "code",
   "execution_count": null,
   "metadata": {},
   "outputs": [],
   "source": []
  },
  {
   "cell_type": "code",
   "execution_count": null,
   "metadata": {},
   "outputs": [],
   "source": []
  },
  {
   "cell_type": "code",
   "execution_count": null,
   "metadata": {},
   "outputs": [],
   "source": []
  },
  {
   "cell_type": "code",
   "execution_count": null,
   "metadata": {},
   "outputs": [],
   "source": []
  },
  {
   "cell_type": "code",
   "execution_count": null,
   "metadata": {},
   "outputs": [],
   "source": []
  },
  {
   "cell_type": "code",
   "execution_count": null,
   "metadata": {},
   "outputs": [],
   "source": []
  },
  {
   "cell_type": "code",
   "execution_count": null,
   "metadata": {},
   "outputs": [],
   "source": []
  },
  {
   "cell_type": "code",
   "execution_count": null,
   "metadata": {},
   "outputs": [],
   "source": []
  },
  {
   "cell_type": "code",
   "execution_count": null,
   "metadata": {},
   "outputs": [],
   "source": []
  },
  {
   "cell_type": "code",
   "execution_count": null,
   "metadata": {},
   "outputs": [],
   "source": []
  },
  {
   "cell_type": "code",
   "execution_count": null,
   "metadata": {},
   "outputs": [],
   "source": []
  },
  {
   "cell_type": "code",
   "execution_count": null,
   "metadata": {},
   "outputs": [],
   "source": []
  },
  {
   "cell_type": "code",
   "execution_count": null,
   "metadata": {},
   "outputs": [],
   "source": []
  },
  {
   "cell_type": "code",
   "execution_count": null,
   "metadata": {},
   "outputs": [],
   "source": []
  },
  {
   "cell_type": "code",
   "execution_count": null,
   "metadata": {},
   "outputs": [],
   "source": []
  },
  {
   "cell_type": "code",
   "execution_count": null,
   "metadata": {},
   "outputs": [],
   "source": []
  },
  {
   "cell_type": "code",
   "execution_count": null,
   "metadata": {},
   "outputs": [],
   "source": []
  },
  {
   "cell_type": "code",
   "execution_count": null,
   "metadata": {},
   "outputs": [],
   "source": []
  },
  {
   "cell_type": "code",
   "execution_count": null,
   "metadata": {},
   "outputs": [],
   "source": []
  },
  {
   "cell_type": "code",
   "execution_count": null,
   "metadata": {},
   "outputs": [],
   "source": []
  },
  {
   "cell_type": "code",
   "execution_count": null,
   "metadata": {},
   "outputs": [],
   "source": []
  },
  {
   "cell_type": "code",
   "execution_count": null,
   "metadata": {},
   "outputs": [],
   "source": []
  },
  {
   "cell_type": "code",
   "execution_count": null,
   "metadata": {},
   "outputs": [],
   "source": []
  }
 ],
 "metadata": {
  "kernelspec": {
   "display_name": "base",
   "language": "python",
   "name": "python3"
  },
  "language_info": {
   "codemirror_mode": {
    "name": "ipython",
    "version": 3
   },
   "file_extension": ".py",
   "mimetype": "text/x-python",
   "name": "python",
   "nbconvert_exporter": "python",
   "pygments_lexer": "ipython3",
   "version": "0.0.0"
  },
  "orig_nbformat": 4
 },
 "nbformat": 4,
 "nbformat_minor": 2
}
